{
 "cells": [
  {
   "cell_type": "markdown",
   "metadata": {},
   "source": [
    "## import modules"
   ]
  },
  {
   "cell_type": "code",
   "execution_count": 21,
   "metadata": {},
   "outputs": [],
   "source": [
    "from models.issues import Issues\n",
    "from models import config\n",
    "from models.transform import transform_issues\n",
    "from models.repos import Repos\n",
    "import pandas as pd\n",
    "from zenhub import Zenhub\n",
    "import warnings\n",
    "warnings.filterwarnings('ignore')\n",
    "import ipywidgets as widgets\n",
    "from IPython.display import display\n",
    "from IPython.html.widgets import interactive"
   ]
  },
  {
   "cell_type": "markdown",
   "metadata": {},
   "source": [
    "## extract repos and their id"
   ]
  },
  {
   "cell_type": "code",
   "execution_count": 2,
   "metadata": {},
   "outputs": [],
   "source": [
    "repos = Repos('k8-proxy').get_repos()[['name', 'id']]\n",
    "repos=repos.rename(columns={\"id\":\"repo_id\", \"name\": \"repo\"})"
   ]
  },
  {
   "cell_type": "markdown",
   "metadata": {},
   "source": [
    "## extract issues and their id"
   ]
  },
  {
   "cell_type": "code",
   "execution_count": 3,
   "metadata": {},
   "outputs": [],
   "source": [
    "issues = transform_issues()[['repo', 'title','number', 'id']]\n",
    "issues = issues.rename(columns={\"id\":\"issue_id\"})"
   ]
  },
  {
   "cell_type": "markdown",
   "metadata": {},
   "source": [
    "## merge issues to their respective repos"
   ]
  },
  {
   "cell_type": "code",
   "execution_count": 5,
   "metadata": {},
   "outputs": [
    {
     "data": {
      "text/plain": [
       "(288, 5)"
      ]
     },
     "execution_count": 5,
     "metadata": {},
     "output_type": "execute_result"
    }
   ],
   "source": [
    "issue = issues.merge(repos, on='repo')\n",
    "issue.shape"
   ]
  },
  {
   "cell_type": "markdown",
   "metadata": {},
   "source": [
    "## create a Zenhub connection"
   ]
  },
  {
   "cell_type": "code",
   "execution_count": 7,
   "metadata": {},
   "outputs": [],
   "source": [
    "zh = Zenhub(config.ZENHUB_TOKEN)"
   ]
  },
  {
   "cell_type": "markdown",
   "metadata": {},
   "source": [
    "## extract issue data from zenhub in batches of 100"
   ]
  },
  {
   "cell_type": "code",
   "execution_count": 8,
   "metadata": {},
   "outputs": [],
   "source": [
    "issue['pipes'] = \"\"\n",
    "for i in range(0, 100):\n",
    "    issue.pipes[i] = zh.get_issue_data(repo_id=issue.repo_id[i], issue_number=issue.number[i])"
   ]
  },
  {
   "cell_type": "code",
   "execution_count": 10,
   "metadata": {},
   "outputs": [],
   "source": [
    "for i in range(100, 200):\n",
    "    issue.pipes[i] = zh.get_issue_data(repo_id=issue.repo_id[i], issue_number=issue.number[i])"
   ]
  },
  {
   "cell_type": "code",
   "execution_count": 11,
   "metadata": {},
   "outputs": [],
   "source": [
    "for i in range(200, len(issue)):\n",
    "    issue.pipes[i] = zh.get_issue_data(repo_id=issue.repo_id[i], issue_number=issue.number[i])"
   ]
  },
  {
   "cell_type": "markdown",
   "metadata": {},
   "source": []
  },
  {
   "cell_type": "code",
   "execution_count": 12,
   "metadata": {
    "scrolled": false
   },
   "outputs": [
    {
     "data": {
      "text/html": [
       "<div>\n",
       "<style scoped>\n",
       "    .dataframe tbody tr th:only-of-type {\n",
       "        vertical-align: middle;\n",
       "    }\n",
       "\n",
       "    .dataframe tbody tr th {\n",
       "        vertical-align: top;\n",
       "    }\n",
       "\n",
       "    .dataframe thead th {\n",
       "        text-align: right;\n",
       "    }\n",
       "</style>\n",
       "<table border=\"1\" class=\"dataframe\">\n",
       "  <thead>\n",
       "    <tr style=\"text-align: right;\">\n",
       "      <th></th>\n",
       "      <th>repo</th>\n",
       "      <th>title</th>\n",
       "      <th>number</th>\n",
       "      <th>issue_id</th>\n",
       "      <th>repo_id</th>\n",
       "      <th>pipes</th>\n",
       "    </tr>\n",
       "  </thead>\n",
       "  <tbody>\n",
       "    <tr>\n",
       "      <th>0</th>\n",
       "      <td>aws-jmeter-test-engine-v1</td>\n",
       "      <td>removing unnecessary files</td>\n",
       "      <td>37</td>\n",
       "      <td>717701441</td>\n",
       "      <td>298066702</td>\n",
       "      <td>{'plus_ones': [], 'is_epic': False, 'pipelines...</td>\n",
       "    </tr>\n",
       "    <tr>\n",
       "      <th>1</th>\n",
       "      <td>aws-jmeter-test-engine-v1</td>\n",
       "      <td>Bzmconcurrent thread group</td>\n",
       "      <td>36</td>\n",
       "      <td>717700784</td>\n",
       "      <td>298066702</td>\n",
       "      <td>{'plus_ones': [], 'is_epic': False, 'pipelines...</td>\n",
       "    </tr>\n",
       "    <tr>\n",
       "      <th>2</th>\n",
       "      <td>aws-jmeter-test-engine-v1</td>\n",
       "      <td>Move Transactions for status checks to separat...</td>\n",
       "      <td>35</td>\n",
       "      <td>717457683</td>\n",
       "      <td>298066702</td>\n",
       "      <td>{'plus_ones': [], 'is_epic': False, 'pipelines...</td>\n",
       "    </tr>\n",
       "    <tr>\n",
       "      <th>3</th>\n",
       "      <td>aws-jmeter-test-engine-v1</td>\n",
       "      <td>Implement auto scaling to automatically alloca...</td>\n",
       "      <td>33</td>\n",
       "      <td>716320805</td>\n",
       "      <td>298066702</td>\n",
       "      <td>{'plus_ones': [], 'is_epic': False, 'pipelines...</td>\n",
       "    </tr>\n",
       "    <tr>\n",
       "      <th>4</th>\n",
       "      <td>aws-jmeter-test-engine-v1</td>\n",
       "      <td>s3 out file upload is optimised</td>\n",
       "      <td>31</td>\n",
       "      <td>715178800</td>\n",
       "      <td>298066702</td>\n",
       "      <td>{'plus_ones': [], 'is_epic': False, 'pipelines...</td>\n",
       "    </tr>\n",
       "  </tbody>\n",
       "</table>\n",
       "</div>"
      ],
      "text/plain": [
       "                        repo  \\\n",
       "0  aws-jmeter-test-engine-v1   \n",
       "1  aws-jmeter-test-engine-v1   \n",
       "2  aws-jmeter-test-engine-v1   \n",
       "3  aws-jmeter-test-engine-v1   \n",
       "4  aws-jmeter-test-engine-v1   \n",
       "\n",
       "                                               title  number   issue_id  \\\n",
       "0                         removing unnecessary files      37  717701441   \n",
       "1                         Bzmconcurrent thread group      36  717700784   \n",
       "2  Move Transactions for status checks to separat...      35  717457683   \n",
       "3  Implement auto scaling to automatically alloca...      33  716320805   \n",
       "4                    s3 out file upload is optimised      31  715178800   \n",
       "\n",
       "     repo_id                                              pipes  \n",
       "0  298066702  {'plus_ones': [], 'is_epic': False, 'pipelines...  \n",
       "1  298066702  {'plus_ones': [], 'is_epic': False, 'pipelines...  \n",
       "2  298066702  {'plus_ones': [], 'is_epic': False, 'pipelines...  \n",
       "3  298066702  {'plus_ones': [], 'is_epic': False, 'pipelines...  \n",
       "4  298066702  {'plus_ones': [], 'is_epic': False, 'pipelines...  "
      ]
     },
     "execution_count": 12,
     "metadata": {},
     "output_type": "execute_result"
    }
   ],
   "source": [
    "issue.head()"
   ]
  },
  {
   "cell_type": "markdown",
   "metadata": {},
   "source": [
    "## get the status of an issue from zenhub pipelines"
   ]
  },
  {
   "cell_type": "code",
   "execution_count": 13,
   "metadata": {},
   "outputs": [],
   "source": [
    "issue['status'] = \"\"\n",
    "for i in range(0, len(issue)):\n",
    "    if 'pipelines' in issue['pipes'][i]:\n",
    "        issue['status'][i] = issue.pipes[i]['pipelines'][0]['name']\n",
    "    else:\n",
    "        issue['status'][i] = None\n",
    "boards = issue.drop('pipes', 1)\n",
    "boards = boards.rename(columns = {\"repo\": \"project\", \"title\":\"summary\", \"number\":\"task\"})"
   ]
  },
  {
   "cell_type": "markdown",
   "metadata": {},
   "source": [
    "## boards "
   ]
  },
  {
   "cell_type": "code",
   "execution_count": 14,
   "metadata": {
    "scrolled": true
   },
   "outputs": [
    {
     "data": {
      "text/html": [
       "<div>\n",
       "<style scoped>\n",
       "    .dataframe tbody tr th:only-of-type {\n",
       "        vertical-align: middle;\n",
       "    }\n",
       "\n",
       "    .dataframe tbody tr th {\n",
       "        vertical-align: top;\n",
       "    }\n",
       "\n",
       "    .dataframe thead th {\n",
       "        text-align: right;\n",
       "    }\n",
       "</style>\n",
       "<table border=\"1\" class=\"dataframe\">\n",
       "  <thead>\n",
       "    <tr style=\"text-align: right;\">\n",
       "      <th></th>\n",
       "      <th>project</th>\n",
       "      <th>summary</th>\n",
       "      <th>task</th>\n",
       "      <th>issue_id</th>\n",
       "      <th>repo_id</th>\n",
       "      <th>status</th>\n",
       "    </tr>\n",
       "  </thead>\n",
       "  <tbody>\n",
       "    <tr>\n",
       "      <th>0</th>\n",
       "      <td>aws-jmeter-test-engine-v1</td>\n",
       "      <td>removing unnecessary files</td>\n",
       "      <td>37</td>\n",
       "      <td>717701441</td>\n",
       "      <td>298066702</td>\n",
       "      <td>Peer Review</td>\n",
       "    </tr>\n",
       "    <tr>\n",
       "      <th>1</th>\n",
       "      <td>aws-jmeter-test-engine-v1</td>\n",
       "      <td>Bzmconcurrent thread group</td>\n",
       "      <td>36</td>\n",
       "      <td>717700784</td>\n",
       "      <td>298066702</td>\n",
       "      <td>Peer Review</td>\n",
       "    </tr>\n",
       "  </tbody>\n",
       "</table>\n",
       "</div>"
      ],
      "text/plain": [
       "                     project                     summary  task   issue_id  \\\n",
       "0  aws-jmeter-test-engine-v1  removing unnecessary files    37  717701441   \n",
       "1  aws-jmeter-test-engine-v1  Bzmconcurrent thread group    36  717700784   \n",
       "\n",
       "     repo_id       status  \n",
       "0  298066702  Peer Review  \n",
       "1  298066702  Peer Review  "
      ]
     },
     "execution_count": 14,
     "metadata": {},
     "output_type": "execute_result"
    }
   ],
   "source": [
    "boards.head(2)"
   ]
  },
  {
   "cell_type": "markdown",
   "metadata": {},
   "source": [
    "## sample for k8-data-visualization"
   ]
  },
  {
   "cell_type": "code",
   "execution_count": 17,
   "metadata": {
    "scrolled": false
   },
   "outputs": [
    {
     "data": {
      "text/html": [
       "<div>\n",
       "<style scoped>\n",
       "    .dataframe tbody tr th:only-of-type {\n",
       "        vertical-align: middle;\n",
       "    }\n",
       "\n",
       "    .dataframe tbody tr th {\n",
       "        vertical-align: top;\n",
       "    }\n",
       "\n",
       "    .dataframe thead th {\n",
       "        text-align: right;\n",
       "    }\n",
       "</style>\n",
       "<table border=\"1\" class=\"dataframe\">\n",
       "  <thead>\n",
       "    <tr style=\"text-align: right;\">\n",
       "      <th></th>\n",
       "      <th>project</th>\n",
       "      <th>summary</th>\n",
       "      <th>task</th>\n",
       "      <th>issue_id</th>\n",
       "      <th>repo_id</th>\n",
       "      <th>status</th>\n",
       "    </tr>\n",
       "  </thead>\n",
       "  <tbody>\n",
       "    <tr>\n",
       "      <th>34</th>\n",
       "      <td>k8-data-visualization</td>\n",
       "      <td>PR report enhancement. Closes #110</td>\n",
       "      <td>113</td>\n",
       "      <td>718361309</td>\n",
       "      <td>289667349</td>\n",
       "      <td>Peer Review</td>\n",
       "    </tr>\n",
       "    <tr>\n",
       "      <th>35</th>\n",
       "      <td>k8-data-visualization</td>\n",
       "      <td>Replicate All Notebooks in Jupyter to Google C...</td>\n",
       "      <td>112</td>\n",
       "      <td>718239991</td>\n",
       "      <td>289667349</td>\n",
       "      <td>Backlog</td>\n",
       "    </tr>\n",
       "    <tr>\n",
       "      <th>36</th>\n",
       "      <td>k8-data-visualization</td>\n",
       "      <td>Replicate All Notebooks in Jupyter to Google C...</td>\n",
       "      <td>111</td>\n",
       "      <td>718239351</td>\n",
       "      <td>289667349</td>\n",
       "      <td>Backlog</td>\n",
       "    </tr>\n",
       "    <tr>\n",
       "      <th>37</th>\n",
       "      <td>k8-data-visualization</td>\n",
       "      <td>Remove the displayed data under Fetch “PR from...</td>\n",
       "      <td>110</td>\n",
       "      <td>718235134</td>\n",
       "      <td>289667349</td>\n",
       "      <td>Peer Review</td>\n",
       "    </tr>\n",
       "    <tr>\n",
       "      <th>38</th>\n",
       "      <td>k8-data-visualization</td>\n",
       "      <td>Enhance Make_PowerPoint_Presentation.ipynb</td>\n",
       "      <td>108</td>\n",
       "      <td>715774605</td>\n",
       "      <td>289667349</td>\n",
       "      <td>In Progress</td>\n",
       "    </tr>\n",
       "  </tbody>\n",
       "</table>\n",
       "</div>"
      ],
      "text/plain": [
       "                  project                                            summary  \\\n",
       "34  k8-data-visualization                 PR report enhancement. Closes #110   \n",
       "35  k8-data-visualization  Replicate All Notebooks in Jupyter to Google C...   \n",
       "36  k8-data-visualization  Replicate All Notebooks in Jupyter to Google C...   \n",
       "37  k8-data-visualization  Remove the displayed data under Fetch “PR from...   \n",
       "38  k8-data-visualization         Enhance Make_PowerPoint_Presentation.ipynb   \n",
       "\n",
       "    task   issue_id    repo_id       status  \n",
       "34   113  718361309  289667349  Peer Review  \n",
       "35   112  718239991  289667349      Backlog  \n",
       "36   111  718239351  289667349      Backlog  \n",
       "37   110  718235134  289667349  Peer Review  \n",
       "38   108  715774605  289667349  In Progress  "
      ]
     },
     "execution_count": 17,
     "metadata": {},
     "output_type": "execute_result"
    }
   ],
   "source": [
    "boards.query(\"project=='k8-data-visualization'\").head()"
   ]
  },
  {
   "cell_type": "markdown",
   "metadata": {},
   "source": [
    "## widget to slice the boards per project"
   ]
  },
  {
   "cell_type": "code",
   "execution_count": 26,
   "metadata": {},
   "outputs": [],
   "source": [
    "items = ['All']+sorted(boards['project'].unique().tolist())\n",
    "def view(Project=''):\n",
    "    if Project==\"All\": display(boards)\n",
    "    display(boards[boards.project==Project].reset_index(drop=True))\n",
    "w = widgets.Select(options=items)"
   ]
  },
  {
   "cell_type": "code",
   "execution_count": 27,
   "metadata": {},
   "outputs": [
    {
     "data": {
      "application/vnd.jupyter.widget-view+json": {
       "model_id": "ea995336b12741cdbc4b9488e90d6417",
       "version_major": 2,
       "version_minor": 0
      },
      "text/plain": [
       "interactive(children=(Select(description='Project', options=('All', 'Open-Source', 'aws-jmeter-test-engine-v1'…"
      ]
     },
     "metadata": {},
     "output_type": "display_data"
    }
   ],
   "source": [
    "interactive(view, Project=w)"
   ]
  },
  {
   "cell_type": "markdown",
   "metadata": {},
   "source": [
    "## widget to slice the boards per status"
   ]
  },
  {
   "cell_type": "code",
   "execution_count": 44,
   "metadata": {},
   "outputs": [],
   "source": [
    "stats = boards['status'].unique().tolist()\n",
    "stat = [x for x in stats if x is not None]\n",
    "items = ['All']+sorted(stat)\n",
    "def view(Status=''):\n",
    "    if Status==\"All\": display(boards)\n",
    "    display(boards[boards.status==Status].reset_index(drop=True))\n",
    "w = widgets.Select(options=items)"
   ]
  },
  {
   "cell_type": "code",
   "execution_count": 45,
   "metadata": {},
   "outputs": [
    {
     "data": {
      "application/vnd.jupyter.widget-view+json": {
       "model_id": "78e6659a582b48259d0c81172dfb725f",
       "version_major": 2,
       "version_minor": 0
      },
      "text/plain": [
       "interactive(children=(Select(description='Status', options=('All', 'Backlog', 'Done', 'GW Team Review', 'In Pr…"
      ]
     },
     "metadata": {},
     "output_type": "display_data"
    }
   ],
   "source": [
    "interactive(view, Status=w)"
   ]
  },
  {
   "cell_type": "code",
   "execution_count": 46,
   "metadata": {},
   "outputs": [],
   "source": [
    "# save to csv\n",
    "boards.to_csv(\"../data/boards.csv\", index=False)"
   ]
  },
  {
   "cell_type": "code",
   "execution_count": null,
   "metadata": {},
   "outputs": [],
   "source": []
  }
 ],
 "metadata": {
  "kernelspec": {
   "display_name": "Python 3",
   "language": "python",
   "name": "python3"
  },
  "language_info": {
   "codemirror_mode": {
    "name": "ipython",
    "version": 3
   },
   "file_extension": ".py",
   "mimetype": "text/x-python",
   "name": "python",
   "nbconvert_exporter": "python",
   "pygments_lexer": "ipython3",
   "version": "3.7.5"
  }
 },
 "nbformat": 4,
 "nbformat_minor": 4
}
