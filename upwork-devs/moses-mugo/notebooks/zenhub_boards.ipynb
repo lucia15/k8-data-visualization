{
 "cells": [
  {
   "cell_type": "markdown",
   "metadata": {},
   "source": [
    "### Table of contents:\n",
    "\n",
    "* [install required packages](#install)\n",
    "\n",
    "* [toggle code on off](#toggle)\n",
    "\n",
    "* [create a dataframe of k8 repos](#repos)\n",
    "    \n",
    "* [create a dataframe of k8 issues](#issues)\n",
    "    \n",
    "* [merge issues and repos](#merge)\n",
    "\n",
    "* [create a zenhub connection](#zenhub)\n",
    "\n",
    "* [extract boards from zenhub](#zencall)\n",
    "\n",
    "* [get status of all issues from zenhub pipeline](#status)\n",
    "\n",
    "* [view boards per project](#per-project)\n",
    "\n",
    "* [view boards per status](#per-status)\n",
    "\n",
    "* [save boards to csv file](#save)"
   ]
  },
  {
   "cell_type": "markdown",
   "metadata": {},
   "source": [
    "## import modules <a class=\"anchor\" id=\"install\"></a>"
   ]
  },
  {
   "cell_type": "code",
   "execution_count": 1,
   "metadata": {},
   "outputs": [],
   "source": [
    "import sys\n",
    "sys.path.insert(0, '../models/')\n",
    "from issues import Issues\n",
    "import config\n",
    "from transform import transform_issues\n",
    "from repos import Repos\n",
    "import pandas as pd\n",
    "from zenhub import Zenhub\n",
    "import warnings\n",
    "warnings.filterwarnings('ignore')\n",
    "import ipywidgets as widgets\n",
    "from IPython.display import display\n",
    "from IPython.html.widgets import interactive\n",
    "from IPython.display import HTML\n",
    "import time"
   ]
  },
  {
   "cell_type": "markdown",
   "metadata": {},
   "source": [
    "## toggle code on off <a class=\"anchor\" id=\"toggle\"></a>"
   ]
  },
  {
   "cell_type": "code",
   "execution_count": 2,
   "metadata": {},
   "outputs": [
    {
     "data": {
      "text/html": [
       "<script>\n",
       "code_show=true; \n",
       "function code_toggle() {\n",
       " if (code_show){\n",
       " $('div.input').hide();\n",
       " } else {\n",
       " $('div.input').show();\n",
       " }\n",
       " code_show = !code_show\n",
       "} \n",
       "$( document ).ready(code_toggle);\n",
       "</script>\n",
       "<form action=\"javascript:code_toggle()\"><input type=\"submit\" value=\"Click here to toggle on/off the raw code.\"></form>"
      ],
      "text/plain": [
       "<IPython.core.display.HTML object>"
      ]
     },
     "execution_count": 2,
     "metadata": {},
     "output_type": "execute_result"
    }
   ],
   "source": [
    "HTML('''<script>\n",
    "code_show=true; \n",
    "function code_toggle() {\n",
    " if (code_show){\n",
    " $('div.input').hide();\n",
    " } else {\n",
    " $('div.input').show();\n",
    " }\n",
    " code_show = !code_show\n",
    "} \n",
    "$( document ).ready(code_toggle);\n",
    "</script>\n",
    "<form action=\"javascript:code_toggle()\"><input type=\"submit\" value=\"Click here to toggle on/off the raw code.\"></form>''')"
   ]
  },
  {
   "cell_type": "markdown",
   "metadata": {},
   "source": [
    "## extract repos and their id <a class=\"anchor\" id=\"repos\"></a>"
   ]
  },
  {
   "cell_type": "code",
   "execution_count": 3,
   "metadata": {},
   "outputs": [],
   "source": [
    "repos = Repos('k8-proxy').get_repos()[['name', 'id']]\n",
    "repos=repos.rename(columns={\"id\":\"repo_id\", \"name\": \"repo\"})"
   ]
  },
  {
   "cell_type": "markdown",
   "metadata": {},
   "source": [
    "## extract issues and their id <a class=\"anchor\" id=\"issues\"></a>"
   ]
  },
  {
   "cell_type": "code",
   "execution_count": 4,
   "metadata": {},
   "outputs": [],
   "source": [
    "issues = transform_issues()[['repo', 'title','number', 'id']]\n",
    "issues = issues.rename(columns={\"id\":\"issue_id\"})"
   ]
  },
  {
   "cell_type": "markdown",
   "metadata": {},
   "source": [
    "## merge issues to their respective repos <a class=\"anchor\" id=\"merge\"></a>"
   ]
  },
  {
   "cell_type": "code",
   "execution_count": 5,
   "metadata": {},
   "outputs": [
    {
     "data": {
      "text/plain": [
       "(252, 5)"
      ]
     },
     "execution_count": 5,
     "metadata": {},
     "output_type": "execute_result"
    }
   ],
   "source": [
    "issue = issues.merge(repos, on='repo')\n",
    "issue.shape"
   ]
  },
  {
   "cell_type": "markdown",
   "metadata": {},
   "source": [
    "## create a Zenhub connection <a class=\"anchor\" id=\"zenhub\"></a>"
   ]
  },
  {
   "cell_type": "code",
   "execution_count": 6,
   "metadata": {},
   "outputs": [],
   "source": [
    "zh = Zenhub(config.ZENHUB_TOKEN)"
   ]
  },
  {
   "cell_type": "markdown",
   "metadata": {},
   "source": [
    "## extract issue data from zenhub in batches of 100 <a class=\"anchor\" id=\"zencall\"></a>"
   ]
  },
  {
   "cell_type": "code",
   "execution_count": 7,
   "metadata": {},
   "outputs": [],
   "source": [
    "issue['pipes'] = \"\"\n",
    "for i in range(0, 100):\n",
    "    issue.pipes[i] = zh.get_issue_data(repo_id=issue.repo_id[i], issue_number=issue.number[i])\n",
    "time.sleep(60)"
   ]
  },
  {
   "cell_type": "code",
   "execution_count": 8,
   "metadata": {},
   "outputs": [],
   "source": [
    "for i in range(100, 200):\n",
    "    issue.pipes[i] = zh.get_issue_data(repo_id=issue.repo_id[i], issue_number=issue.number[i])\n",
    "time.sleep(60)"
   ]
  },
  {
   "cell_type": "code",
   "execution_count": 9,
   "metadata": {},
   "outputs": [],
   "source": [
    "for i in range(200, len(issue)):\n",
    "    issue.pipes[i] = zh.get_issue_data(repo_id=issue.repo_id[i], issue_number=issue.number[i])"
   ]
  },
  {
   "cell_type": "markdown",
   "metadata": {},
   "source": [
    "## view raw boards"
   ]
  },
  {
   "cell_type": "code",
   "execution_count": 10,
   "metadata": {
    "scrolled": false
   },
   "outputs": [
    {
     "data": {
      "text/html": [
       "<div>\n",
       "<style scoped>\n",
       "    .dataframe tbody tr th:only-of-type {\n",
       "        vertical-align: middle;\n",
       "    }\n",
       "\n",
       "    .dataframe tbody tr th {\n",
       "        vertical-align: top;\n",
       "    }\n",
       "\n",
       "    .dataframe thead th {\n",
       "        text-align: right;\n",
       "    }\n",
       "</style>\n",
       "<table border=\"1\" class=\"dataframe\">\n",
       "  <thead>\n",
       "    <tr style=\"text-align: right;\">\n",
       "      <th></th>\n",
       "      <th>repo</th>\n",
       "      <th>title</th>\n",
       "      <th>number</th>\n",
       "      <th>issue_id</th>\n",
       "      <th>repo_id</th>\n",
       "      <th>pipes</th>\n",
       "    </tr>\n",
       "  </thead>\n",
       "  <tbody>\n",
       "    <tr>\n",
       "      <th>0</th>\n",
       "      <td>aws-jmeter-test-engine</td>\n",
       "      <td>Implement delete stack feature in main master ...</td>\n",
       "      <td>89</td>\n",
       "      <td>732644826</td>\n",
       "      <td>298066702</td>\n",
       "      <td>{'plus_ones': [], 'is_epic': False, 'pipelines...</td>\n",
       "    </tr>\n",
       "    <tr>\n",
       "      <th>1</th>\n",
       "      <td>aws-jmeter-test-engine</td>\n",
       "      <td>Enable prefix in createStack python script and...</td>\n",
       "      <td>87</td>\n",
       "      <td>731993676</td>\n",
       "      <td>298066702</td>\n",
       "      <td>{'plus_ones': [], 'is_epic': False, 'pipelines...</td>\n",
       "    </tr>\n",
       "    <tr>\n",
       "      <th>2</th>\n",
       "      <td>aws-jmeter-test-engine</td>\n",
       "      <td>Icapmonitoring</td>\n",
       "      <td>84</td>\n",
       "      <td>730095998</td>\n",
       "      <td>298066702</td>\n",
       "      <td>{'plus_ones': [], 'is_epic': False, 'pipelines...</td>\n",
       "    </tr>\n",
       "    <tr>\n",
       "      <th>3</th>\n",
       "      <td>aws-jmeter-test-engine</td>\n",
       "      <td>Create master python script to automatically c...</td>\n",
       "      <td>83</td>\n",
       "      <td>729349759</td>\n",
       "      <td>298066702</td>\n",
       "      <td>{'plus_ones': [], 'is_epic': False, 'pipelines...</td>\n",
       "    </tr>\n",
       "    <tr>\n",
       "      <th>4</th>\n",
       "      <td>aws-jmeter-test-engine</td>\n",
       "      <td>Test data integration</td>\n",
       "      <td>82</td>\n",
       "      <td>729070408</td>\n",
       "      <td>298066702</td>\n",
       "      <td>{'plus_ones': [], 'is_epic': False, 'pipelines...</td>\n",
       "    </tr>\n",
       "  </tbody>\n",
       "</table>\n",
       "</div>"
      ],
      "text/plain": [
       "                     repo                                              title  \\\n",
       "0  aws-jmeter-test-engine  Implement delete stack feature in main master ...   \n",
       "1  aws-jmeter-test-engine  Enable prefix in createStack python script and...   \n",
       "2  aws-jmeter-test-engine                                     Icapmonitoring   \n",
       "3  aws-jmeter-test-engine  Create master python script to automatically c...   \n",
       "4  aws-jmeter-test-engine                              Test data integration   \n",
       "\n",
       "   number   issue_id    repo_id  \\\n",
       "0      89  732644826  298066702   \n",
       "1      87  731993676  298066702   \n",
       "2      84  730095998  298066702   \n",
       "3      83  729349759  298066702   \n",
       "4      82  729070408  298066702   \n",
       "\n",
       "                                               pipes  \n",
       "0  {'plus_ones': [], 'is_epic': False, 'pipelines...  \n",
       "1  {'plus_ones': [], 'is_epic': False, 'pipelines...  \n",
       "2  {'plus_ones': [], 'is_epic': False, 'pipelines...  \n",
       "3  {'plus_ones': [], 'is_epic': False, 'pipelines...  \n",
       "4  {'plus_ones': [], 'is_epic': False, 'pipelines...  "
      ]
     },
     "execution_count": 10,
     "metadata": {},
     "output_type": "execute_result"
    }
   ],
   "source": [
    "issue.head()"
   ]
  },
  {
   "cell_type": "markdown",
   "metadata": {},
   "source": [
    "## get the status of issues from zenhub pipelines <a class=\"anchor\" id=\"status\"></a>"
   ]
  },
  {
   "cell_type": "code",
   "execution_count": 11,
   "metadata": {},
   "outputs": [],
   "source": [
    "issue['status'] = \"\"\n",
    "for i in range(0, len(issue)):\n",
    "    if 'pipelines' in issue['pipes'][i]:\n",
    "        issue['status'][i] = issue.pipes[i]['pipelines'][0]['name']\n",
    "    else:\n",
    "        issue['status'][i] = None\n",
    "boards = issue.drop('pipes', 1)\n",
    "boards = boards.rename(columns = {\"repo\": \"project\", \"title\":\"summary\", \"number\":\"task\"})"
   ]
  },
  {
   "cell_type": "markdown",
   "metadata": {},
   "source": [
    "## boards  <a class=\"anchor\" id=\"boards\"></a>"
   ]
  },
  {
   "cell_type": "code",
   "execution_count": 12,
   "metadata": {
    "scrolled": true
   },
   "outputs": [
    {
     "data": {
      "text/html": [
       "<div>\n",
       "<style scoped>\n",
       "    .dataframe tbody tr th:only-of-type {\n",
       "        vertical-align: middle;\n",
       "    }\n",
       "\n",
       "    .dataframe tbody tr th {\n",
       "        vertical-align: top;\n",
       "    }\n",
       "\n",
       "    .dataframe thead th {\n",
       "        text-align: right;\n",
       "    }\n",
       "</style>\n",
       "<table border=\"1\" class=\"dataframe\">\n",
       "  <thead>\n",
       "    <tr style=\"text-align: right;\">\n",
       "      <th></th>\n",
       "      <th>project</th>\n",
       "      <th>summary</th>\n",
       "      <th>task</th>\n",
       "      <th>issue_id</th>\n",
       "      <th>repo_id</th>\n",
       "      <th>status</th>\n",
       "    </tr>\n",
       "  </thead>\n",
       "  <tbody>\n",
       "    <tr>\n",
       "      <th>0</th>\n",
       "      <td>aws-jmeter-test-engine</td>\n",
       "      <td>Implement delete stack feature in main master ...</td>\n",
       "      <td>89</td>\n",
       "      <td>732644826</td>\n",
       "      <td>298066702</td>\n",
       "      <td>New Issues</td>\n",
       "    </tr>\n",
       "    <tr>\n",
       "      <th>1</th>\n",
       "      <td>aws-jmeter-test-engine</td>\n",
       "      <td>Enable prefix in createStack python script and...</td>\n",
       "      <td>87</td>\n",
       "      <td>731993676</td>\n",
       "      <td>298066702</td>\n",
       "      <td>In Progress</td>\n",
       "    </tr>\n",
       "  </tbody>\n",
       "</table>\n",
       "</div>"
      ],
      "text/plain": [
       "                  project                                            summary  \\\n",
       "0  aws-jmeter-test-engine  Implement delete stack feature in main master ...   \n",
       "1  aws-jmeter-test-engine  Enable prefix in createStack python script and...   \n",
       "\n",
       "   task   issue_id    repo_id       status  \n",
       "0    89  732644826  298066702   New Issues  \n",
       "1    87  731993676  298066702  In Progress  "
      ]
     },
     "execution_count": 12,
     "metadata": {},
     "output_type": "execute_result"
    }
   ],
   "source": [
    "boards.head(2)"
   ]
  },
  {
   "cell_type": "markdown",
   "metadata": {},
   "source": [
    "## sample for k8-data-visualization"
   ]
  },
  {
   "cell_type": "code",
   "execution_count": 13,
   "metadata": {
    "scrolled": false
   },
   "outputs": [
    {
     "data": {
      "text/html": [
       "<div>\n",
       "<style scoped>\n",
       "    .dataframe tbody tr th:only-of-type {\n",
       "        vertical-align: middle;\n",
       "    }\n",
       "\n",
       "    .dataframe tbody tr th {\n",
       "        vertical-align: top;\n",
       "    }\n",
       "\n",
       "    .dataframe thead th {\n",
       "        text-align: right;\n",
       "    }\n",
       "</style>\n",
       "<table border=\"1\" class=\"dataframe\">\n",
       "  <thead>\n",
       "    <tr style=\"text-align: right;\">\n",
       "      <th></th>\n",
       "      <th>project</th>\n",
       "      <th>summary</th>\n",
       "      <th>task</th>\n",
       "      <th>issue_id</th>\n",
       "      <th>repo_id</th>\n",
       "      <th>status</th>\n",
       "    </tr>\n",
       "  </thead>\n",
       "  <tbody>\n",
       "    <tr>\n",
       "      <th>135</th>\n",
       "      <td>k8-data-visualization</td>\n",
       "      <td>Extract k8-proxy repo's programmatically</td>\n",
       "      <td>140</td>\n",
       "      <td>731682115</td>\n",
       "      <td>289667349</td>\n",
       "      <td>In Progress</td>\n",
       "    </tr>\n",
       "    <tr>\n",
       "      <th>136</th>\n",
       "      <td>k8-data-visualization</td>\n",
       "      <td>Create a new functionality of the github-label...</td>\n",
       "      <td>138</td>\n",
       "      <td>731660893</td>\n",
       "      <td>289667349</td>\n",
       "      <td>Backlog</td>\n",
       "    </tr>\n",
       "    <tr>\n",
       "      <th>137</th>\n",
       "      <td>k8-data-visualization</td>\n",
       "      <td>zenhub_boards notebook is showing some error</td>\n",
       "      <td>135</td>\n",
       "      <td>728097585</td>\n",
       "      <td>289667349</td>\n",
       "      <td>Peer Review</td>\n",
       "    </tr>\n",
       "    <tr>\n",
       "      <th>138</th>\n",
       "      <td>k8-data-visualization</td>\n",
       "      <td>issues notebook is showing some error</td>\n",
       "      <td>134</td>\n",
       "      <td>728092766</td>\n",
       "      <td>289667349</td>\n",
       "      <td>Peer Review</td>\n",
       "    </tr>\n",
       "    <tr>\n",
       "      <th>139</th>\n",
       "      <td>k8-data-visualization</td>\n",
       "      <td>issues notebook is showing some error</td>\n",
       "      <td>122</td>\n",
       "      <td>720423013</td>\n",
       "      <td>289667349</td>\n",
       "      <td>Backlog</td>\n",
       "    </tr>\n",
       "  </tbody>\n",
       "</table>\n",
       "</div>"
      ],
      "text/plain": [
       "                   project                                            summary  \\\n",
       "135  k8-data-visualization           Extract k8-proxy repo's programmatically   \n",
       "136  k8-data-visualization  Create a new functionality of the github-label...   \n",
       "137  k8-data-visualization       zenhub_boards notebook is showing some error   \n",
       "138  k8-data-visualization              issues notebook is showing some error   \n",
       "139  k8-data-visualization              issues notebook is showing some error   \n",
       "\n",
       "     task   issue_id    repo_id       status  \n",
       "135   140  731682115  289667349  In Progress  \n",
       "136   138  731660893  289667349      Backlog  \n",
       "137   135  728097585  289667349  Peer Review  \n",
       "138   134  728092766  289667349  Peer Review  \n",
       "139   122  720423013  289667349      Backlog  "
      ]
     },
     "execution_count": 13,
     "metadata": {},
     "output_type": "execute_result"
    }
   ],
   "source": [
    "boards.query(\"project=='k8-data-visualization'\").head()"
   ]
  },
  {
   "cell_type": "markdown",
   "metadata": {},
   "source": [
    "## widget to slice the boards per project <a class=\"anchor\" id=\"per-project\"></a>"
   ]
  },
  {
   "cell_type": "code",
   "execution_count": 14,
   "metadata": {},
   "outputs": [],
   "source": [
    "items = ['All']+sorted(boards['project'].unique().tolist())\n",
    "def view(Project=''):\n",
    "    if Project==\"All\": display(boards)\n",
    "    display(boards[boards.project==Project].reset_index(drop=True))\n",
    "w = widgets.Select(options=items)"
   ]
  },
  {
   "cell_type": "code",
   "execution_count": 15,
   "metadata": {},
   "outputs": [
    {
     "data": {
      "application/vnd.jupyter.widget-view+json": {
       "model_id": "4817eae151a147398136b914b9a37e8b",
       "version_major": 2,
       "version_minor": 0
      },
      "text/plain": [
       "interactive(children=(Select(description='Project', options=('All', 'GW-proxy', 'ICAP-threat-model', 'aws-jmet…"
      ]
     },
     "metadata": {},
     "output_type": "display_data"
    }
   ],
   "source": [
    "interactive(view, Project=w)"
   ]
  },
  {
   "cell_type": "markdown",
   "metadata": {},
   "source": [
    "## widget to slice the boards per status <a class=\"anchor\" id=\"per-status\"></a>"
   ]
  },
  {
   "cell_type": "code",
   "execution_count": 16,
   "metadata": {},
   "outputs": [],
   "source": [
    "stats = boards['status'].unique().tolist()\n",
    "stat = [x for x in stats if x is not None]\n",
    "items = ['All']+sorted(stat)\n",
    "def view(Status=''):\n",
    "    if Status==\"All\": display(boards)\n",
    "    display(boards[boards.status==Status].reset_index(drop=True))\n",
    "w = widgets.Select(options=items)"
   ]
  },
  {
   "cell_type": "code",
   "execution_count": 17,
   "metadata": {},
   "outputs": [
    {
     "data": {
      "application/vnd.jupyter.widget-view+json": {
       "model_id": "45b3167f089d47ab9fa38b6eaceadd1c",
       "version_major": 2,
       "version_minor": 0
      },
      "text/plain": [
       "interactive(children=(Select(description='Status', options=('All', 'Backlog', 'Done', 'In Progress', 'New Issu…"
      ]
     },
     "metadata": {},
     "output_type": "display_data"
    }
   ],
   "source": [
    "interactive(view, Status=w)"
   ]
  },
  {
   "cell_type": "markdown",
   "metadata": {},
   "source": [
    "## save boards to file <a class=\"anchor\" id=\"save\"></a>"
   ]
  },
  {
   "cell_type": "code",
   "execution_count": 18,
   "metadata": {},
   "outputs": [],
   "source": [
    "# save to csv\n",
    "boards.to_csv(\"../data/boards.csv\", index=False)"
   ]
  }
 ],
 "metadata": {
  "kernelspec": {
   "display_name": "Python 3",
   "language": "python",
   "name": "python3"
  },
  "language_info": {
   "codemirror_mode": {
    "name": "ipython",
    "version": 3
   },
   "file_extension": ".py",
   "mimetype": "text/x-python",
   "name": "python",
   "nbconvert_exporter": "python",
   "pygments_lexer": "ipython3",
   "version": "3.7.5"
  }
 },
 "nbformat": 4,
 "nbformat_minor": 4
}
