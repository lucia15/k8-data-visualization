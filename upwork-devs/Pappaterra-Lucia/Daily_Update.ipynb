{
 "cells": [
  {
   "cell_type": "markdown",
   "metadata": {},
   "source": [
    "# Daily Report"
   ]
  },
  {
   "cell_type": "markdown",
   "metadata": {},
   "source": [
    "### Table of contents:\n",
    "\n",
    "* [Install required packages](#install)\n",
    "\n",
    "* [Import required packages and modules](#import)\n",
    "\n",
    "* [Pull update data from google spreadsheet](#pull)\n",
    "\n",
    "* [Generate Dataframe](#df)\n",
    "\n",
    "* [Make presentation](#presentation)"
   ]
  },
  {
   "cell_type": "markdown",
   "metadata": {},
   "source": [
    "## Install required packages <a class=\"anchor\" id=\"install\"></a>\n",
    "\n",
    "that are not present in the docker image"
   ]
  },
  {
   "cell_type": "code",
   "execution_count": 1,
   "metadata": {},
   "outputs": [],
   "source": [
    "%%capture\n",
    "import sys\n",
    "!{sys.executable} -m pip install google-auth-oauthlib\n",
    "!{sys.executable} -m pip install google-api-python-client\n",
    "!{sys.executable} -m pip install python-pptx\n",
    "# comment out this cell once it's installed"
   ]
  },
  {
   "cell_type": "markdown",
   "metadata": {},
   "source": [
    "## Import required packages and modules <a class=\"anchor\" id=\"import\"></a>"
   ]
  },
  {
   "cell_type": "code",
   "execution_count": 2,
   "metadata": {},
   "outputs": [],
   "source": [
    "import pandas as pd"
   ]
  },
  {
   "cell_type": "code",
   "execution_count": 3,
   "metadata": {},
   "outputs": [],
   "source": [
    "from modules.daily_updates import pull_sheet_data, sheet_to_df\n",
    "from modules.power_point import daily_presentation"
   ]
  },
  {
   "cell_type": "markdown",
   "metadata": {},
   "source": [
    "## Pull update data from google spreadsheet <a class=\"anchor\" id=\"pull\"></a>"
   ]
  },
  {
   "cell_type": "markdown",
   "metadata": {},
   "source": [
    "https://docs.google.com/spreadsheets/d/1-ekIsrFLjZ3mdzJvxcGJ_dgtqGT2JK7tzcUzS1o5yFY/view"
   ]
  },
  {
   "cell_type": "code",
   "execution_count": 4,
   "metadata": {},
   "outputs": [
    {
     "name": "stdout",
     "output_type": "stream",
     "text": [
      "COMPLETE: Data copied\n"
     ]
    }
   ],
   "source": [
    "SPREADSHEET_ID = '1-ekIsrFLjZ3mdzJvxcGJ_dgtqGT2JK7tzcUzS1o5yFY'\n",
    "RANGE_NAME = 'Form Responses 1'\n",
    "\n",
    "data = pull_sheet_data(SPREADSHEET_ID, RANGE_NAME)"
   ]
  },
  {
   "cell_type": "markdown",
   "metadata": {},
   "source": [
    "## Generate Dataframe <a class=\"anchor\" id=\"df\"></a>"
   ]
  },
  {
   "cell_type": "code",
   "execution_count": 5,
   "metadata": {},
   "outputs": [],
   "source": [
    "df = sheet_to_df(data)"
   ]
  },
  {
   "cell_type": "code",
   "execution_count": 6,
   "metadata": {},
   "outputs": [
    {
     "data": {
      "text/html": [
       "<div>\n",
       "<style scoped>\n",
       "    .dataframe tbody tr th:only-of-type {\n",
       "        vertical-align: middle;\n",
       "    }\n",
       "\n",
       "    .dataframe tbody tr th {\n",
       "        vertical-align: top;\n",
       "    }\n",
       "\n",
       "    .dataframe thead th {\n",
       "        text-align: right;\n",
       "    }\n",
       "</style>\n",
       "<table border=\"1\" class=\"dataframe\">\n",
       "  <thead>\n",
       "    <tr style=\"text-align: right;\">\n",
       "      <th></th>\n",
       "      <th>Timestamp</th>\n",
       "      <th>Project</th>\n",
       "      <th>Delivery Manager</th>\n",
       "      <th>RAG Status</th>\n",
       "      <th>Onboarding</th>\n",
       "      <th>Offboarding</th>\n",
       "      <th>Issues in progress</th>\n",
       "      <th>Closed issues</th>\n",
       "      <th>Major issues</th>\n",
       "      <th>Next Release/ Important dates</th>\n",
       "      <th>Team members</th>\n",
       "      <th>If you have any more comments</th>\n",
       "      <th>Priority</th>\n",
       "      <th>Service Name</th>\n",
       "    </tr>\n",
       "  </thead>\n",
       "  <tbody>\n",
       "    <tr>\n",
       "      <th>65</th>\n",
       "      <td>10/10/2020</td>\n",
       "      <td>Tech Radar</td>\n",
       "      <td>Chris Diao</td>\n",
       "      <td>Green</td>\n",
       "      <td>None</td>\n",
       "      <td>None</td>\n",
       "      <td>- Create own tech radar #5, - Build Initial Da...</td>\n",
       "      <td></td>\n",
       "      <td></td>\n",
       "      <td></td>\n",
       "      <td>Hunnain Pasha, Chintan Kanadia, Libert Schmidt</td>\n",
       "      <td></td>\n",
       "      <td>P1</td>\n",
       "      <td></td>\n",
       "    </tr>\n",
       "    <tr>\n",
       "      <th>63</th>\n",
       "      <td>10/10/2020</td>\n",
       "      <td>pmarketingandcomms</td>\n",
       "      <td>Amr Eldesouky</td>\n",
       "      <td>Green</td>\n",
       "      <td>None</td>\n",
       "      <td>None</td>\n",
       "      <td>•Demo - Working in visualizing pr and issues, ...</td>\n",
       "      <td></td>\n",
       "      <td></td>\n",
       "      <td></td>\n",
       "      <td>Alejandro Ferrez, Azem Kurtic, Slavik Fokin,</td>\n",
       "      <td></td>\n",
       "      <td>P2</td>\n",
       "      <td>video-editing</td>\n",
       "    </tr>\n",
       "    <tr>\n",
       "      <th>66</th>\n",
       "      <td>10/10/2020</td>\n",
       "      <td>Data Visualisation</td>\n",
       "      <td>Chris Diao</td>\n",
       "      <td>Green</td>\n",
       "      <td>None</td>\n",
       "      <td>None</td>\n",
       "      <td>- Apply Text2Code for Jupyter notebook - Lwasa...</td>\n",
       "      <td></td>\n",
       "      <td></td>\n",
       "      <td></td>\n",
       "      <td>Lwasampijja Baker, Moses Mugo, M. Lucía Pappat...</td>\n",
       "      <td></td>\n",
       "      <td>P2</td>\n",
       "      <td></td>\n",
       "    </tr>\n",
       "    <tr>\n",
       "      <th>64</th>\n",
       "      <td>10/10/2020</td>\n",
       "      <td>puiwireframes</td>\n",
       "      <td>Amr Eldesouky</td>\n",
       "      <td>Amber</td>\n",
       "      <td>None</td>\n",
       "      <td>None</td>\n",
       "      <td>Still working on File Drop site &amp; Kubernetes s...</td>\n",
       "      <td></td>\n",
       "      <td></td>\n",
       "      <td></td>\n",
       "      <td>Adam Hewitt, Oleg Taranenko</td>\n",
       "      <td></td>\n",
       "      <td>P3</td>\n",
       "      <td>ui-wireframes</td>\n",
       "    </tr>\n",
       "  </tbody>\n",
       "</table>\n",
       "</div>"
      ],
      "text/plain": [
       "     Timestamp             Project Delivery Manager RAG Status Onboarding  \\\n",
       "65  10/10/2020          Tech Radar       Chris Diao      Green       None   \n",
       "63  10/10/2020  pmarketingandcomms    Amr Eldesouky      Green       None   \n",
       "66  10/10/2020  Data Visualisation       Chris Diao      Green       None   \n",
       "64  10/10/2020       puiwireframes    Amr Eldesouky      Amber       None   \n",
       "\n",
       "   Offboarding                                 Issues in progress  \\\n",
       "65        None  - Create own tech radar #5, - Build Initial Da...   \n",
       "63        None  •Demo - Working in visualizing pr and issues, ...   \n",
       "66        None  - Apply Text2Code for Jupyter notebook - Lwasa...   \n",
       "64        None  Still working on File Drop site & Kubernetes s...   \n",
       "\n",
       "   Closed issues Major issues Next Release/ Important dates  \\\n",
       "65                                                            \n",
       "63                                                            \n",
       "66                                                            \n",
       "64                                                            \n",
       "\n",
       "                                         Team members  \\\n",
       "65     Hunnain Pasha, Chintan Kanadia, Libert Schmidt   \n",
       "63      Alejandro Ferrez, Azem Kurtic, Slavik Fokin,    \n",
       "66  Lwasampijja Baker, Moses Mugo, M. Lucía Pappat...   \n",
       "64                        Adam Hewitt, Oleg Taranenko   \n",
       "\n",
       "   If you have any more comments Priority   Service Name  \n",
       "65                                     P1                 \n",
       "63                                     P2  video-editing  \n",
       "66                                     P2                 \n",
       "64                                     P3  ui-wireframes  "
      ]
     },
     "execution_count": 6,
     "metadata": {},
     "output_type": "execute_result"
    }
   ],
   "source": [
    "df"
   ]
  },
  {
   "cell_type": "markdown",
   "metadata": {},
   "source": [
    "## Make presentations <a class=\"anchor\" id=\"presentation\"></a>"
   ]
  },
  {
   "cell_type": "markdown",
   "metadata": {},
   "source": [
    "Today presentation:"
   ]
  },
  {
   "cell_type": "code",
   "execution_count": 7,
   "metadata": {},
   "outputs": [],
   "source": [
    "daily_presentation(df, output_to='outputs/Daily Report.pptx') # Default date is today"
   ]
  },
  {
   "cell_type": "markdown",
   "metadata": {},
   "source": [
    "Previous days presentation:"
   ]
  },
  {
   "cell_type": "code",
   "execution_count": 8,
   "metadata": {},
   "outputs": [],
   "source": [
    "df = sheet_to_df(data, date = '10/8/2020') # change date to get the presentation you want\n",
    "daily_presentation(df, output_to='outputs/Daily Report yesterday.pptx')"
   ]
  },
  {
   "cell_type": "code",
   "execution_count": 9,
   "metadata": {},
   "outputs": [],
   "source": [
    "df = sheet_to_df(data, date = '10/5/2020') # change date to get the presentation you want\n",
    "daily_presentation(df, output_to='outputs/Daily Report monday.pptx')"
   ]
  }
 ],
 "metadata": {
  "kernelspec": {
   "display_name": "Python 3",
   "language": "python",
   "name": "python3"
  },
  "language_info": {
   "codemirror_mode": {
    "name": "ipython",
    "version": 3
   },
   "file_extension": ".py",
   "mimetype": "text/x-python",
   "name": "python",
   "nbconvert_exporter": "python",
   "pygments_lexer": "ipython3",
   "version": "3.7.3"
  }
 },
 "nbformat": 4,
 "nbformat_minor": 4
}
