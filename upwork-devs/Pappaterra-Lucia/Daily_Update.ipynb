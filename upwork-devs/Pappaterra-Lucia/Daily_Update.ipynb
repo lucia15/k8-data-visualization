{
 "cells": [
  {
   "cell_type": "markdown",
   "metadata": {},
   "source": [
    "# Daily Report"
   ]
  },
  {
   "cell_type": "markdown",
   "metadata": {},
   "source": [
    "### Table of contents:\n",
    "\n",
    "* [Install required packages](#install)\n",
    "\n",
    "* [Import required packages and modules](#import)\n",
    "\n",
    "* [Pull update data from google spreadsheet](#pull)\n",
    "\n",
    "* [Generate Dataframe](#df)\n",
    "\n",
    "* [Make presentation](#presentation)"
   ]
  },
  {
   "cell_type": "markdown",
   "metadata": {},
   "source": [
    "## Install required packages <a class=\"anchor\" id=\"install\"></a>\n",
    "\n",
    "that are not present in the docker image"
   ]
  },
  {
   "cell_type": "code",
   "execution_count": 1,
   "metadata": {},
   "outputs": [],
   "source": [
    "%%capture\n",
    "import sys\n",
    "!{sys.executable} -m pip install google-auth-oauthlib\n",
    "!{sys.executable} -m pip install google-api-python-client\n",
    "!{sys.executable} -m pip install python-pptx\n",
    "!{sys.executable} -m pip install comtypes\n",
    "# comment out this cell once it's installed"
   ]
  },
  {
   "cell_type": "markdown",
   "metadata": {},
   "source": [
    "## Import required packages and modules <a class=\"anchor\" id=\"import\"></a>"
   ]
  },
  {
   "cell_type": "code",
   "execution_count": 2,
   "metadata": {},
   "outputs": [],
   "source": [
    "import pandas as pd"
   ]
  },
  {
   "cell_type": "code",
   "execution_count": 3,
   "metadata": {},
   "outputs": [],
   "source": [
    "from modules.daily_updates import pull_sheet_data, sheet_to_df\n",
    "from modules.power_point import daily_presentation"
   ]
  },
  {
   "cell_type": "markdown",
   "metadata": {},
   "source": [
    "## Pull update data from google spreadsheet <a class=\"anchor\" id=\"pull\"></a>"
   ]
  },
  {
   "cell_type": "markdown",
   "metadata": {},
   "source": [
    "https://docs.google.com/spreadsheets/d/1-ekIsrFLjZ3mdzJvxcGJ_dgtqGT2JK7tzcUzS1o5yFY/view"
   ]
  },
  {
   "cell_type": "code",
   "execution_count": 4,
   "metadata": {},
   "outputs": [
    {
     "name": "stdout",
     "output_type": "stream",
     "text": [
      "COMPLETE: Data copied\n"
     ]
    }
   ],
   "source": [
    "SPREADSHEET_ID = '1-ekIsrFLjZ3mdzJvxcGJ_dgtqGT2JK7tzcUzS1o5yFY'\n",
    "RANGE_NAME = 'Form Responses 1'\n",
    "\n",
    "data = pull_sheet_data(SPREADSHEET_ID, RANGE_NAME)"
   ]
  },
  {
   "cell_type": "markdown",
   "metadata": {},
   "source": [
    "## Generate Dataframe <a class=\"anchor\" id=\"df\"></a>"
   ]
  },
  {
   "cell_type": "code",
   "execution_count": 5,
   "metadata": {},
   "outputs": [],
   "source": [
    "df = sheet_to_df(data)"
   ]
  },
  {
   "cell_type": "code",
   "execution_count": 6,
   "metadata": {},
   "outputs": [
    {
     "data": {
      "text/html": [
       "<div>\n",
       "<style scoped>\n",
       "    .dataframe tbody tr th:only-of-type {\n",
       "        vertical-align: middle;\n",
       "    }\n",
       "\n",
       "    .dataframe tbody tr th {\n",
       "        vertical-align: top;\n",
       "    }\n",
       "\n",
       "    .dataframe thead th {\n",
       "        text-align: right;\n",
       "    }\n",
       "</style>\n",
       "<table border=\"1\" class=\"dataframe\">\n",
       "  <thead>\n",
       "    <tr style=\"text-align: right;\">\n",
       "      <th></th>\n",
       "      <th>Timestamp</th>\n",
       "      <th>Project</th>\n",
       "      <th>Delivery Manager</th>\n",
       "      <th>RAG Status</th>\n",
       "      <th>Onboarding</th>\n",
       "      <th>Offboarding</th>\n",
       "      <th>Issues in progress</th>\n",
       "      <th>Closed issues</th>\n",
       "      <th>Major issues</th>\n",
       "      <th>Next Release/ Important dates</th>\n",
       "      <th>Team members</th>\n",
       "      <th>If you have any more comments</th>\n",
       "      <th>Priority</th>\n",
       "      <th>Service Name</th>\n",
       "      <th>Parent Service</th>\n",
       "      <th>Service Manager</th>\n",
       "      <th>Date</th>\n",
       "    </tr>\n",
       "  </thead>\n",
       "  <tbody>\n",
       "  </tbody>\n",
       "</table>\n",
       "</div>"
      ],
      "text/plain": [
       "Empty DataFrame\n",
       "Columns: [Timestamp, Project, Delivery Manager, RAG Status, Onboarding, Offboarding, Issues in progress, Closed issues, Major issues, Next Release/ Important dates, Team members, If you have any more comments, Priority, Service Name, Parent Service, Service Manager, Date]\n",
       "Index: []"
      ]
     },
     "execution_count": 6,
     "metadata": {},
     "output_type": "execute_result"
    }
   ],
   "source": [
    "df"
   ]
  },
  {
   "cell_type": "markdown",
   "metadata": {},
   "source": [
    "## Make presentations <a class=\"anchor\" id=\"presentation\"></a>"
   ]
  },
  {
   "cell_type": "markdown",
   "metadata": {},
   "source": [
    "Today presentation:"
   ]
  },
  {
   "cell_type": "code",
   "execution_count": 7,
   "metadata": {},
   "outputs": [],
   "source": [
    "daily_presentation(df, output_to='outputs/Daily Report.pptx') # Default date is today"
   ]
  },
  {
   "cell_type": "markdown",
   "metadata": {},
   "source": [
    "Previous days presentation:"
   ]
  },
  {
   "cell_type": "code",
   "execution_count": 8,
   "metadata": {},
   "outputs": [],
   "source": [
    "df = sheet_to_df(data, date = '10/22/2020') # change date to get the presentation you want\n",
    "daily_presentation(df, output_to='outputs/Daily Report yesterday.pptx')"
   ]
  },
  {
   "cell_type": "code",
   "execution_count": 9,
   "metadata": {},
   "outputs": [],
   "source": [
    "df = sheet_to_df(data, date = '10/23/2020') # change date to get the presentation you want\n",
    "daily_presentation(df, output_to='outputs/Daily Report Friday.pptx')"
   ]
  }
 ],
 "metadata": {
  "kernelspec": {
   "display_name": "Python 3",
   "language": "python",
   "name": "python3"
  },
  "language_info": {
   "codemirror_mode": {
    "name": "ipython",
    "version": 3
   },
   "file_extension": ".py",
   "mimetype": "text/x-python",
   "name": "python",
   "nbconvert_exporter": "python",
   "pygments_lexer": "ipython3",
   "version": "3.7.3"
  }
 },
 "nbformat": 4,
 "nbformat_minor": 4
}
