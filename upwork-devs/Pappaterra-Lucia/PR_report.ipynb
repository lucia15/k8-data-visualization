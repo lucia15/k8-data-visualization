{
 "cells": [
  {
   "cell_type": "markdown",
   "metadata": {},
   "source": [
    "# Pull Request Report"
   ]
  },
  {
   "cell_type": "code",
   "execution_count": 1,
   "metadata": {},
   "outputs": [
    {
     "name": "stdout",
     "output_type": "stream",
     "text": [
      "\n",
      "Fetching pull requests from repo filetrust/k8-reverse-proxy\n",
      "\n",
      "Repository Name: k8-reverse-proxy\n",
      "PR Link: https://github.com/k8-proxy/k8-reverse-proxy/pull/47\n",
      "Reviewer(s): not assigned\n",
      "Date Created: 2020-09-27T15:27:57Z\n",
      "\n",
      "Fetching pull requests from repo filetrust/k8-traffic-generator\n",
      "\n",
      "Repository Name: k8-traffic-generator\n",
      "PR Link: https://github.com/k8-proxy/k8-traffic-generator/pull/136\n",
      "Reviewer(s): not assigned\n",
      "Date Created: 2020-09-28T09:05:14Z\n",
      "\n",
      "Fetching pull requests from repo filetrust/k8-glasswall-rebuild\n",
      "There are no pull requests in filetrust/k8-glasswall-rebuild\n",
      "\n",
      "Fetching pull requests from repo filetrust/k8-data-visualization\n",
      "There are no pull requests in filetrust/k8-data-visualization\n",
      "\n",
      "Fetching pull requests from repo filetrust/k8-performance-use-cases\n",
      "There are no pull requests in filetrust/k8-performance-use-cases\n",
      "\n",
      "Fetching pull requests from repo filetrust/rebuild-k8s-filetypedetection\n",
      "There are no pull requests in filetrust/rebuild-k8s-filetypedetection\n"
     ]
    }
   ],
   "source": [
    "import sys\n",
    "sys.path.append('..')\n",
    "import modules.gitpulls"
   ]
  }
 ],
 "metadata": {
  "kernelspec": {
   "display_name": "Python 3",
   "language": "python",
   "name": "python3"
  },
  "language_info": {
   "codemirror_mode": {
    "name": "ipython",
    "version": 3
   },
   "file_extension": ".py",
   "mimetype": "text/x-python",
   "name": "python",
   "nbconvert_exporter": "python",
   "pygments_lexer": "ipython3",
   "version": "3.7.3"
  }
 },
 "nbformat": 4,
 "nbformat_minor": 4
}
