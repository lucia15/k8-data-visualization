{
 "cells": [
  {
   "cell_type": "markdown",
   "metadata": {},
   "source": [
    "### Pull Request Report"
   ]
  },
  {
   "cell_type": "code",
   "execution_count": 1,
   "metadata": {},
   "outputs": [
    {
     "name": "stdout",
     "output_type": "stream",
     "text": [
      "\n",
      "Fetching pull requests from repo filetrust/k8-reverse-proxy\n",
      "\n",
      "Repository Name: k8-reverse-proxy\n",
      "PR Link: https://github.com/filetrust/k8-reverse-proxy/pull/25\n",
      "Reviewer(s): not assigned\n",
      "Date Created: 2020-09-10T18:47:35Z\n",
      "\n",
      "Fetching pull requests from repo filetrust/k8-traffic-generator\n",
      "\n",
      "Repository Name: k8-traffic-generator\n",
      "PR Link: https://github.com/filetrust/k8-traffic-generator/pull/89\n",
      "Reviewer(s): DinisCruz, ggrig, dinis-cruz-gw\n",
      "Date Created: 2020-09-10T13:54:51Z\n",
      "\n",
      "Repository Name: k8-traffic-generator\n",
      "PR Link: https://github.com/filetrust/k8-traffic-generator/pull/88\n",
      "Reviewer(s): DinisCruz, dinis-cruz-gw, faisaladnanpeltops\n",
      "Date Created: 2020-09-10T13:50:54Z\n",
      "\n",
      "Repository Name: k8-traffic-generator\n",
      "PR Link: https://github.com/filetrust/k8-traffic-generator/pull/87\n",
      "Reviewer(s): DinisCruz, dinis-cruz-gw\n",
      "Date Created: 2020-09-10T13:22:08Z\n",
      "\n",
      "Repository Name: k8-traffic-generator\n",
      "PR Link: https://github.com/filetrust/k8-traffic-generator/pull/85\n",
      "Reviewer(s): DinisCruz, dinis-cruz-gw\n",
      "Date Created: 2020-09-10T13:02:17Z\n",
      "\n",
      "Repository Name: k8-traffic-generator\n",
      "PR Link: https://github.com/filetrust/k8-traffic-generator/pull/82\n",
      "Reviewer(s): faisaladnanpeltops\n",
      "Date Created: 2020-09-10T11:35:48Z\n",
      "\n",
      "Repository Name: k8-traffic-generator\n",
      "PR Link: https://github.com/filetrust/k8-traffic-generator/pull/78\n",
      "Reviewer(s): not assigned\n",
      "Date Created: 2020-09-08T12:15:15Z\n",
      "\n",
      "Fetching pull requests from repo filetrust/k8-glasswall-rebuild\n",
      "There are no pull requests in filetrust/k8-glasswall-rebuild\n",
      "\n",
      "Fetching pull requests from repo filetrust/k8-data-visualization\n",
      "\n",
      "Repository Name: k8-data-visualization\n",
      "PR Link: https://github.com/filetrust/k8-data-visualization/pull/54\n",
      "Reviewer(s): dinis-cruz-gw\n",
      "Date Created: 2020-09-10T10:17:11Z\n",
      "\n",
      "Repository Name: k8-data-visualization\n",
      "PR Link: https://github.com/filetrust/k8-data-visualization/pull/48\n",
      "Reviewer(s): not assigned\n",
      "Date Created: 2020-09-05T17:17:31Z\n",
      "\n",
      "Fetching pull requests from repo filetrust/k8-performance-use-cases\n",
      "\n",
      "Repository Name: k8-performance-use-cases\n",
      "PR Link: https://github.com/filetrust/k8-performance-use-cases/pull/15\n",
      "Reviewer(s): DinisCruz, faisaladnanpeltops\n",
      "Date Created: 2020-09-10T11:31:08Z\n",
      "\n",
      "Repository Name: k8-performance-use-cases\n",
      "PR Link: https://github.com/filetrust/k8-performance-use-cases/pull/14\n",
      "Reviewer(s): not assigned\n",
      "Date Created: 2020-09-09T13:39:12Z\n",
      "\n",
      "Fetching pull requests from repo filetrust/rebuild-k8s-filetypedetection\n",
      "There are no pull requests in filetrust/rebuild-k8s-filetypedetection\n"
     ]
    }
   ],
   "source": [
    "import sys\n",
    "sys.path.append('..')\n",
    "import gitpulls"
   ]
  }
 ],
 "metadata": {
  "kernelspec": {
   "display_name": "Python 3",
   "language": "python",
   "name": "python3"
  },
  "language_info": {
   "codemirror_mode": {
    "name": "ipython",
    "version": 3
   },
   "file_extension": ".py",
   "mimetype": "text/x-python",
   "name": "python",
   "nbconvert_exporter": "python",
   "pygments_lexer": "ipython3",
   "version": "3.7.3"
  }
 },
 "nbformat": 4,
 "nbformat_minor": 4
}
