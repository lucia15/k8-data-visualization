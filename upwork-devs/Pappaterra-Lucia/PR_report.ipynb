{
 "cells": [
  {
   "cell_type": "markdown",
   "metadata": {},
   "source": [
    "# Pull Request Report"
   ]
  },
  {
   "cell_type": "markdown",
   "metadata": {},
   "source": [
    "### Table of contents:\n",
    "\n",
    "* [Install required packages](#install)\n",
    "\n",
    "* [Import required packages and modules](#import)\n",
    "\n",
    "* [Fetch PR from repositories to pandas data frame](#fetch)\n",
    "\n",
    "* [Save PR Report to excel file](#save)"
   ]
  },
  {
   "cell_type": "markdown",
   "metadata": {},
   "source": [
    "## Install required packages <a class=\"anchor\" id=\"install\"></a>\n",
    "\n",
    "that are not present in the docker image"
   ]
  },
  {
   "cell_type": "code",
   "execution_count": 1,
   "metadata": {},
   "outputs": [],
   "source": [
    "%%capture\n",
    "import sys\n",
    "!{sys.executable} -m pip install XlsxWriter\n",
    "# comment out this cell once it's installed"
   ]
  },
  {
   "cell_type": "markdown",
   "metadata": {},
   "source": [
    "## Import required packages and modules <a class=\"anchor\" id=\"import\"></a>"
   ]
  },
  {
   "cell_type": "code",
   "execution_count": 2,
   "metadata": {},
   "outputs": [],
   "source": [
    "import pandas as pd\n",
    "from xlsxwriter.utility import xl_rowcol_to_cell"
   ]
  },
  {
   "cell_type": "markdown",
   "metadata": {},
   "source": [
    "gitpulls.py is the code behind this notebook.\n",
    "\n",
    "Notice you should also add your credential information on the config.json file."
   ]
  },
  {
   "cell_type": "code",
   "execution_count": 3,
   "metadata": {},
   "outputs": [],
   "source": [
    "from modules.gitpulls import gitPulls"
   ]
  },
  {
   "cell_type": "markdown",
   "metadata": {},
   "source": [
    "## Fetch PR from repositories to pandas dataframe <a class=\"anchor\" id=\"fetch\"></a>"
   ]
  },
  {
   "cell_type": "code",
   "execution_count": 4,
   "metadata": {},
   "outputs": [],
   "source": [
    "gp = gitPulls(\"modules/config.json\")\n",
    "df = gp.getPullRequests()"
   ]
  },
  {
   "cell_type": "code",
   "execution_count": 5,
   "metadata": {},
   "outputs": [
    {
     "data": {
      "text/html": [
       "<style  type=\"text/css\" >\n",
       "    #T_cbc6db90_1e0a_11eb_9149_2d87c2cf4f21 th {\n",
       "          background-color: yellowgreen;\n",
       "          color: black;\n",
       "    }</style><table id=\"T_cbc6db90_1e0a_11eb_9149_2d87c2cf4f21\" ><thead>    <tr>        <th class=\"blank level0\" ></th>        <th class=\"col_heading level0 col0\" >Repository Name</th>        <th class=\"col_heading level0 col1\" >PR Link</th>        <th class=\"col_heading level0 col2\" >Reviewer(s)</th>        <th class=\"col_heading level0 col3\" >Label(s)</th>        <th class=\"col_heading level0 col4\" >Date Created</th>    </tr></thead><tbody>\n",
       "                <tr>\n",
       "                        <th id=\"T_cbc6db90_1e0a_11eb_9149_2d87c2cf4f21level0_row0\" class=\"row_heading level0 row0\" >0</th>\n",
       "                        <td id=\"T_cbc6db90_1e0a_11eb_9149_2d87c2cf4f21row0_col0\" class=\"data row0 col0\" >aws-jmeter-test-engine</td>\n",
       "                        <td id=\"T_cbc6db90_1e0a_11eb_9149_2d87c2cf4f21row0_col1\" class=\"data row0 col1\" >https://github.com/k8-proxy/aws-jmeter-test-engine/pull/100</td>\n",
       "                        <td id=\"T_cbc6db90_1e0a_11eb_9149_2d87c2cf4f21row0_col2\" class=\"data row0 col2\" >not assigned</td>\n",
       "                        <td id=\"T_cbc6db90_1e0a_11eb_9149_2d87c2cf4f21row0_col3\" class=\"data row0 col3\" >Ready for review</td>\n",
       "                        <td id=\"T_cbc6db90_1e0a_11eb_9149_2d87c2cf4f21row0_col4\" class=\"data row0 col4\" >2020-11-03T13:40:29Z</td>\n",
       "            </tr>\n",
       "            <tr>\n",
       "                        <th id=\"T_cbc6db90_1e0a_11eb_9149_2d87c2cf4f21level0_row1\" class=\"row_heading level0 row1\" >1</th>\n",
       "                        <td id=\"T_cbc6db90_1e0a_11eb_9149_2d87c2cf4f21row1_col0\" class=\"data row1 col0\" >aws-jmeter-test-engine</td>\n",
       "                        <td id=\"T_cbc6db90_1e0a_11eb_9149_2d87c2cf4f21row1_col1\" class=\"data row1 col1\" >https://github.com/k8-proxy/aws-jmeter-test-engine/pull/91</td>\n",
       "                        <td id=\"T_cbc6db90_1e0a_11eb_9149_2d87c2cf4f21row1_col2\" class=\"data row1 col2\" >uzfarid</td>\n",
       "                        <td id=\"T_cbc6db90_1e0a_11eb_9149_2d87c2cf4f21row1_col3\" class=\"data row1 col3\" >Ready for review</td>\n",
       "                        <td id=\"T_cbc6db90_1e0a_11eb_9149_2d87c2cf4f21row1_col4\" class=\"data row1 col4\" >2020-11-01T16:41:05Z</td>\n",
       "            </tr>\n",
       "            <tr>\n",
       "                        <th id=\"T_cbc6db90_1e0a_11eb_9149_2d87c2cf4f21level0_row2\" class=\"row_heading level0 row2\" >2</th>\n",
       "                        <td id=\"T_cbc6db90_1e0a_11eb_9149_2d87c2cf4f21row2_col0\" class=\"data row2 col0\" >aws-jmeter-test-engine</td>\n",
       "                        <td id=\"T_cbc6db90_1e0a_11eb_9149_2d87c2cf4f21row2_col1\" class=\"data row2 col1\" >https://github.com/k8-proxy/aws-jmeter-test-engine/pull/81</td>\n",
       "                        <td id=\"T_cbc6db90_1e0a_11eb_9149_2d87c2cf4f21row2_col2\" class=\"data row2 col2\" >uzfarid</td>\n",
       "                        <td id=\"T_cbc6db90_1e0a_11eb_9149_2d87c2cf4f21row2_col3\" class=\"data row2 col3\" >changes requested</td>\n",
       "                        <td id=\"T_cbc6db90_1e0a_11eb_9149_2d87c2cf4f21row2_col4\" class=\"data row2 col4\" >2020-10-25T08:54:58Z</td>\n",
       "            </tr>\n",
       "            <tr>\n",
       "                        <th id=\"T_cbc6db90_1e0a_11eb_9149_2d87c2cf4f21level0_row3\" class=\"row_heading level0 row3\" >3</th>\n",
       "                        <td id=\"T_cbc6db90_1e0a_11eb_9149_2d87c2cf4f21row3_col0\" class=\"data row3 col0\" >aws-jmeter-test-engine</td>\n",
       "                        <td id=\"T_cbc6db90_1e0a_11eb_9149_2d87c2cf4f21row3_col1\" class=\"data row3 col1\" >https://github.com/k8-proxy/aws-jmeter-test-engine/pull/80</td>\n",
       "                        <td id=\"T_cbc6db90_1e0a_11eb_9149_2d87c2cf4f21row3_col2\" class=\"data row3 col2\" >not assigned</td>\n",
       "                        <td id=\"T_cbc6db90_1e0a_11eb_9149_2d87c2cf4f21row3_col3\" class=\"data row3 col3\" >changes requested, ready-to-review</td>\n",
       "                        <td id=\"T_cbc6db90_1e0a_11eb_9149_2d87c2cf4f21row3_col4\" class=\"data row3 col4\" >2020-10-23T14:13:29Z</td>\n",
       "            </tr>\n",
       "            <tr>\n",
       "                        <th id=\"T_cbc6db90_1e0a_11eb_9149_2d87c2cf4f21level0_row4\" class=\"row_heading level0 row4\" >4</th>\n",
       "                        <td id=\"T_cbc6db90_1e0a_11eb_9149_2d87c2cf4f21row4_col0\" class=\"data row4 col0\" >gp-jira-website</td>\n",
       "                        <td id=\"T_cbc6db90_1e0a_11eb_9149_2d87c2cf4f21row4_col1\" class=\"data row4 col1\" >https://github.com/k8-proxy/gp-jira-website/pull/5</td>\n",
       "                        <td id=\"T_cbc6db90_1e0a_11eb_9149_2d87c2cf4f21row4_col2\" class=\"data row4 col2\" >not assigned</td>\n",
       "                        <td id=\"T_cbc6db90_1e0a_11eb_9149_2d87c2cf4f21row4_col3\" class=\"data row4 col3\" >none</td>\n",
       "                        <td id=\"T_cbc6db90_1e0a_11eb_9149_2d87c2cf4f21row4_col4\" class=\"data row4 col4\" >2020-10-27T08:41:15Z</td>\n",
       "            </tr>\n",
       "            <tr>\n",
       "                        <th id=\"T_cbc6db90_1e0a_11eb_9149_2d87c2cf4f21level0_row5\" class=\"row_heading level0 row5\" >5</th>\n",
       "                        <td id=\"T_cbc6db90_1e0a_11eb_9149_2d87c2cf4f21row5_col0\" class=\"data row5 col0\" >gp-jira-website</td>\n",
       "                        <td id=\"T_cbc6db90_1e0a_11eb_9149_2d87c2cf4f21row5_col1\" class=\"data row5 col1\" >https://github.com/k8-proxy/gp-jira-website/pull/3</td>\n",
       "                        <td id=\"T_cbc6db90_1e0a_11eb_9149_2d87c2cf4f21row5_col2\" class=\"data row5 col2\" >not assigned</td>\n",
       "                        <td id=\"T_cbc6db90_1e0a_11eb_9149_2d87c2cf4f21row5_col3\" class=\"data row5 col3\" >none</td>\n",
       "                        <td id=\"T_cbc6db90_1e0a_11eb_9149_2d87c2cf4f21row5_col4\" class=\"data row5 col4\" >2020-10-25T17:59:40Z</td>\n",
       "            </tr>\n",
       "            <tr>\n",
       "                        <th id=\"T_cbc6db90_1e0a_11eb_9149_2d87c2cf4f21level0_row6\" class=\"row_heading level0 row6\" >6</th>\n",
       "                        <td id=\"T_cbc6db90_1e0a_11eb_9149_2d87c2cf4f21row6_col0\" class=\"data row6 col0\" >GW-proxy</td>\n",
       "                        <td id=\"T_cbc6db90_1e0a_11eb_9149_2d87c2cf4f21row6_col1\" class=\"data row6 col1\" >https://github.com/k8-proxy/GW-proxy/pull/75</td>\n",
       "                        <td id=\"T_cbc6db90_1e0a_11eb_9149_2d87c2cf4f21row6_col2\" class=\"data row6 col2\" >not assigned</td>\n",
       "                        <td id=\"T_cbc6db90_1e0a_11eb_9149_2d87c2cf4f21row6_col3\" class=\"data row6 col3\" >none</td>\n",
       "                        <td id=\"T_cbc6db90_1e0a_11eb_9149_2d87c2cf4f21row6_col4\" class=\"data row6 col4\" >2020-10-28T13:15:45Z</td>\n",
       "            </tr>\n",
       "            <tr>\n",
       "                        <th id=\"T_cbc6db90_1e0a_11eb_9149_2d87c2cf4f21level0_row7\" class=\"row_heading level0 row7\" >7</th>\n",
       "                        <td id=\"T_cbc6db90_1e0a_11eb_9149_2d87c2cf4f21row7_col0\" class=\"data row7 col0\" >k8-data-visualization</td>\n",
       "                        <td id=\"T_cbc6db90_1e0a_11eb_9149_2d87c2cf4f21row7_col1\" class=\"data row7 col1\" >https://github.com/k8-proxy/k8-data-visualization/pull/143</td>\n",
       "                        <td id=\"T_cbc6db90_1e0a_11eb_9149_2d87c2cf4f21row7_col2\" class=\"data row7 col2\" >DinisCruz</td>\n",
       "                        <td id=\"T_cbc6db90_1e0a_11eb_9149_2d87c2cf4f21row7_col3\" class=\"data row7 col3\" >ready-for-review</td>\n",
       "                        <td id=\"T_cbc6db90_1e0a_11eb_9149_2d87c2cf4f21row7_col4\" class=\"data row7 col4\" >2020-11-01T11:46:27Z</td>\n",
       "            </tr>\n",
       "            <tr>\n",
       "                        <th id=\"T_cbc6db90_1e0a_11eb_9149_2d87c2cf4f21level0_row8\" class=\"row_heading level0 row8\" >8</th>\n",
       "                        <td id=\"T_cbc6db90_1e0a_11eb_9149_2d87c2cf4f21row8_col0\" class=\"data row8 col0\" >k8-glasswall-rebuild</td>\n",
       "                        <td id=\"T_cbc6db90_1e0a_11eb_9149_2d87c2cf4f21row8_col1\" class=\"data row8 col1\" >https://github.com/k8-proxy/k8-glasswall-rebuild/pull/48</td>\n",
       "                        <td id=\"T_cbc6db90_1e0a_11eb_9149_2d87c2cf4f21row8_col2\" class=\"data row8 col2\" >DinisCruz, b24repo, dtollaku, dinis-cruz-gw</td>\n",
       "                        <td id=\"T_cbc6db90_1e0a_11eb_9149_2d87c2cf4f21row8_col3\" class=\"data row8 col3\" >ready-for-review</td>\n",
       "                        <td id=\"T_cbc6db90_1e0a_11eb_9149_2d87c2cf4f21row8_col4\" class=\"data row8 col4\" >2020-10-20T11:30:35Z</td>\n",
       "            </tr>\n",
       "    </tbody></table>"
      ],
      "text/plain": [
       "<pandas.io.formats.style.Styler at 0x7ff2856d49b0>"
      ]
     },
     "execution_count": 5,
     "metadata": {},
     "output_type": "execute_result"
    }
   ],
   "source": [
    "df.style.set_table_styles(\n",
    "    [{\n",
    "        'selector': 'th',\n",
    "        'props': [\n",
    "            ('background-color', 'yellowgreen'),\n",
    "            ('color', 'black')]\n",
    "    }])"
   ]
  },
  {
   "cell_type": "markdown",
   "metadata": {},
   "source": [
    "## Save PR Report to excel file <a class=\"anchor\" id=\"save\"></a>"
   ]
  },
  {
   "cell_type": "markdown",
   "metadata": {},
   "source": [
    "Create 'outputs' folder locally since the output file will be saved there."
   ]
  },
  {
   "cell_type": "code",
   "execution_count": 6,
   "metadata": {},
   "outputs": [],
   "source": [
    "# Create a Pandas Excel writer using XlsxWriter as the engine.\n",
    "writer = pd.ExcelWriter('outputs/PR_report.xlsx', engine='xlsxwriter')\n",
    "df.to_excel(writer, sheet_name='Sheet1')\n",
    "\n",
    "# Get access to the workbook and sheet\n",
    "workbook = writer.book\n",
    "worksheet = writer.sheets['Sheet1']\n",
    "\n",
    "# Format the columns by width \n",
    "\n",
    "# Repository name column\n",
    "worksheet.set_column('B:B', 30)\n",
    "# PR Link column\n",
    "worksheet.set_column('C:C', 60)\n",
    "# Reviewers column\n",
    "worksheet.set_column('D:D', 35)\n",
    "# Labels column\n",
    "worksheet.set_column('E:E', 20)\n",
    "# Date Created column\n",
    "worksheet.set_column('F:F', 22)\n",
    "\n",
    "# Add a header format\n",
    "header_format = workbook.add_format({\n",
    "    'bold': True,\n",
    "    'text_wrap': True,\n",
    "    'valign': 'top',\n",
    "    'fg_color': '#9ACD32',\n",
    "    'border': 1})\n",
    "\n",
    "# Write the column headers with the defined format.\n",
    "for col_num, value in enumerate(df.columns.values):\n",
    "    worksheet.write(0, col_num + 1, value, header_format)\n",
    "    \n",
    "writer.save()"
   ]
  }
 ],
 "metadata": {
  "kernelspec": {
   "display_name": "Python 3",
   "language": "python",
   "name": "python3"
  },
  "language_info": {
   "codemirror_mode": {
    "name": "ipython",
    "version": 3
   },
   "file_extension": ".py",
   "mimetype": "text/x-python",
   "name": "python",
   "nbconvert_exporter": "python",
   "pygments_lexer": "ipython3",
   "version": "3.7.3"
  }
 },
 "nbformat": 4,
 "nbformat_minor": 4
}
