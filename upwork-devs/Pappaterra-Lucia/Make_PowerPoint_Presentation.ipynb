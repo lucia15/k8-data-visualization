{
 "cells": [
  {
   "cell_type": "markdown",
   "metadata": {},
   "source": [
    "# Make Power Point Presentations"
   ]
  },
  {
   "cell_type": "markdown",
   "metadata": {},
   "source": [
    "### Table of contents:\n",
    "\n",
    "* [Install required packages](#install)\n",
    "\n",
    "* [Import required module](#import)\n",
    "\n",
    "* [Make presentations](#presentation)"
   ]
  },
  {
   "cell_type": "markdown",
   "metadata": {},
   "source": [
    "## Install required packages <a class=\"anchor\" id=\"install\"></a>\n",
    "\n",
    "that are not present in the docker image"
   ]
  },
  {
   "cell_type": "code",
   "execution_count": 1,
   "metadata": {},
   "outputs": [],
   "source": [
    "%%capture\n",
    "import sys\n",
    "!{sys.executable} -m pip install python-pptx\n",
    "# comment out this cell once it's installed"
   ]
  },
  {
   "cell_type": "markdown",
   "metadata": {},
   "source": [
    "## Import required module <a class=\"anchor\" id=\"import\"></a>\n",
    "\n",
    "power_point.py is the code behind this notebook"
   ]
  },
  {
   "cell_type": "code",
   "execution_count": 2,
   "metadata": {},
   "outputs": [],
   "source": [
    "from modules.power_point import make_presentation"
   ]
  },
  {
   "cell_type": "markdown",
   "metadata": {},
   "source": [
    "## Make presentations <a class=\"anchor\" id=\"presentation\"></a>"
   ]
  },
  {
   "cell_type": "markdown",
   "metadata": {},
   "source": [
    "Next command create a powerpoint presentation with all current Projects Team Structures. It also create one powerpoint presentation per project with a single slide each one if 'single' parameter is equal to True. Remember to create 'outputs' folder locally, and also create 'single' folder inside it."
   ]
  },
  {
   "cell_type": "code",
   "execution_count": 3,
   "metadata": {},
   "outputs": [],
   "source": [
    "make_presentation(sheet_name='Projects Team Structure', \n",
    "                  output_to='outputs/Projects Team Structure.pptx', \n",
    "                  single=True)"
   ]
  }
 ],
 "metadata": {
  "kernelspec": {
   "display_name": "Python 3",
   "language": "python",
   "name": "python3"
  },
  "language_info": {
   "codemirror_mode": {
    "name": "ipython",
    "version": 3
   },
   "file_extension": ".py",
   "mimetype": "text/x-python",
   "name": "python",
   "nbconvert_exporter": "python",
   "pygments_lexer": "ipython3",
   "version": "3.8.5"
  }
 },
 "nbformat": 4,
 "nbformat_minor": 4
}
