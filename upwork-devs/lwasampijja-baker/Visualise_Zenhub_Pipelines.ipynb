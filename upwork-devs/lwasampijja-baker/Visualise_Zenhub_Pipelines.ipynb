{
  "nbformat": 4,
  "nbformat_minor": 0,
  "metadata": {
    "colab": {
      "name": "Visualise Zenhub Pipelines.ipynb",
      "provenance": [],
      "authorship_tag": "ABX9TyOBYRSzDlsSiuiGyXdZbh2/",
      "include_colab_link": true
    },
    "kernelspec": {
      "name": "python3",
      "display_name": "Python 3"
    }
  },
  "cells": [
    {
      "cell_type": "markdown",
      "metadata": {
        "id": "view-in-github",
        "colab_type": "text"
      },
      "source": [
        "<a href=\"https://colab.research.google.com/github/baker371/k8-data-visualization/blob/lwasampijja-baker/upwork-devs/lwasampijja-baker/Visualise_Zenhub_Pipelines.ipynb\" target=\"_parent\"><img src=\"https://colab.research.google.com/assets/colab-badge.svg\" alt=\"Open In Colab\"/></a>"
      ]
    },
    {
      "cell_type": "code",
      "metadata": {
        "id": "tVSJ2CePCPrA",
        "colab_type": "code",
        "colab": {}
      },
      "source": [
        "pip install flatjson"
      ],
      "execution_count": null,
      "outputs": []
    },
    {
      "cell_type": "code",
      "metadata": {
        "id": "Z7lOrMr0RRhL",
        "colab_type": "code",
        "colab": {}
      },
      "source": [
        "import requests\n",
        "import pandas as pd \n",
        "import json\n",
        "import os\n",
        "from pandas.io.json import json_normalize #package for flattening json in pandas df\n",
        "import flatjson\n",
        "\n",
        "import warnings\n",
        "warnings.filterwarnings('ignore')\n"
      ],
      "execution_count": 7,
      "outputs": []
    },
    {
      "cell_type": "code",
      "metadata": {
        "id": "1n0cczhOTIyR",
        "colab_type": "code",
        "colab": {}
      },
      "source": [
        "def git_connect():\n",
        "  jtoken                = os.getenv('GITHUB_TOKEN', '')\n",
        "  url                   = f\"https://api.github.com/repos/filetrust/k8-data-visualization/issues\"\n",
        "  headers               = {'Authorization': f'token {jtoken}'}\n",
        "  r                     = requests.get(url, headers=headers, params={'state': 'all'}).json()\n",
        "  data                  = json_normalize(r, max_level=1)\n",
        "  global                  dfn\n",
        "  dfn                   = pd.DataFrame.from_dict(data)\n",
        "  dfn                   = dfn[['number', 'assignee.login', 'state']]\n",
        "  return dfn\n",
        "\n"
      ],
      "execution_count": 8,
      "outputs": []
    },
    {
      "cell_type": "code",
      "metadata": {
        "id": "-LMi72ClZmjA",
        "colab_type": "code",
        "colab": {}
      },
      "source": [
        "def zen_connect():\n",
        "  ztoken                = ''\n",
        "  headers               = {'X-Authentication-Token': ztoken, }\n",
        "  url                   = 'https://api.zenhub.io/p1/repositories/289667349/board'\n",
        "  r                     = requests.get(url, headers=headers).json()\n",
        "  data                  = flatjson.dumps(r)\n",
        "  data1                 = json_normalize(data)\n",
        "  global                  df \n",
        "  df                    = pd.DataFrame.from_dict(data1)\n",
        "  df                    = df.loc[:, ~df.columns.str.endswith('id')]\n",
        "  df                    = df.loc[:, ~df.columns.str.endswith('is_epic')]\n",
        "  df                    = df.loc[:, ~df.columns.str.endswith('position')]\n",
        "  return df"
      ],
      "execution_count": 10,
      "outputs": []
    },
    {
      "cell_type": "code",
      "metadata": {
        "id": "kiO0ijQWe-y_",
        "colab_type": "code",
        "colab": {}
      },
      "source": [
        "def new_col():\n",
        "  global                  new\n",
        "  new                   = df[df.columns[pd.Series(df.columns).str.startswith('pipelines[0]')]]\n",
        "  new                   = new.transpose() \n",
        "  new.columns           = new.iloc[0]\n",
        "  new                   = new[1:]\n",
        "  new                   = new.rename({'New Issues':'number'}, axis=1)\n",
        "  new['New Issues']     = 'New Issues'\n",
        "  return new"
      ],
      "execution_count": 12,
      "outputs": []
    },
    {
      "cell_type": "code",
      "metadata": {
        "id": "vkoeaMNPuyJt",
        "colab_type": "code",
        "colab": {}
      },
      "source": [
        "def backlog():\n",
        "  global                  bak\n",
        "  bak                   = df[df.columns[pd.Series(df.columns).str.startswith('pipelines[1]')]]\n",
        "  bak                   = bak.transpose() \n",
        "  bak.columns           = bak.iloc[0]\n",
        "  bak                   = bak[1:]\n",
        "  bak                   = bak.rename({'Backlog':'number'}, axis=1)\n",
        "  bak['Backlog']        = 'Backlog'\n",
        "  return bak"
      ],
      "execution_count": 14,
      "outputs": []
    },
    {
      "cell_type": "code",
      "metadata": {
        "id": "MPNflNkXvMOO",
        "colab_type": "code",
        "colab": {}
      },
      "source": [
        "def progress():\n",
        "  global                  prog\n",
        "  prog                  = df[df.columns[pd.Series(df.columns).str.startswith('pipelines[2]')]]\n",
        "  prog                  = prog.transpose() \n",
        "  prog.columns          = prog.iloc[0]\n",
        "  prog                  = prog[1:]\n",
        "  prog                  = prog.rename({'In Progress':'number'}, axis=1)\n",
        "  prog['In Progress']   = 'In Progress'\n",
        "  return prog"
      ],
      "execution_count": 16,
      "outputs": []
    },
    {
      "cell_type": "code",
      "metadata": {
        "id": "oSmab6yuwIGW",
        "colab_type": "code",
        "colab": {}
      },
      "source": [
        "def peer():\n",
        "  global                  peer\n",
        "  peer                  = df[df.columns[pd.Series(df.columns).str.startswith('pipelines[3]')]]\n",
        "  peer                  = peer.transpose() \n",
        "  peer.columns          = peer.iloc[0]\n",
        "  peer                  = peer[1:]\n",
        "  peer                  = peer.rename({'Peer Review':'number'}, axis=1)\n",
        "  peer['Peer Review']   = 'Peer Review'\n",
        "  return peer"
      ],
      "execution_count": 18,
      "outputs": []
    },
    {
      "cell_type": "code",
      "metadata": {
        "id": "b6NRhJDZzbNp",
        "colab_type": "code",
        "colab": {}
      },
      "source": [
        "def merge():\n",
        "  dfv                   = pd.concat([new, bak, prog, peer])\n",
        "  global                  df_merge\n",
        "  df_merge              = pd.merge(dfn, dfv, on='number')\n",
        "  df_merge              = df_merge.rename({'assignee.login':'Assigned'}, axis=1)\n",
        "  df_merge              = df_merge.rename({'state':'Status'}, axis=1)\n",
        "  df_merge              = df_merge.rename({'number':'Total'}, axis=1)\n",
        "  return df_merge"
      ],
      "execution_count": 20,
      "outputs": []
    },
    {
      "cell_type": "code",
      "metadata": {
        "id": "eWLB887W12l4",
        "colab_type": "code",
        "colab": {}
      },
      "source": [
        "def status_table():\n",
        "  return df_merge.groupby(['Assigned', 'Status']).count()"
      ],
      "execution_count": 22,
      "outputs": []
    },
    {
      "cell_type": "code",
      "metadata": {
        "id": "VtKJ0m1OCcPV",
        "colab_type": "code",
        "colab": {
          "base_uri": "https://localhost:8080/",
          "height": 256
        },
        "outputId": "f0a98d76-2cca-430d-ec97-998d223bd99f"
      },
      "source": [
        "status_table()"
      ],
      "execution_count": 23,
      "outputs": [
        {
          "output_type": "execute_result",
          "data": {
            "text/html": [
              "<div>\n",
              "<style scoped>\n",
              "    .dataframe tbody tr th:only-of-type {\n",
              "        vertical-align: middle;\n",
              "    }\n",
              "\n",
              "    .dataframe tbody tr th {\n",
              "        vertical-align: top;\n",
              "    }\n",
              "\n",
              "    .dataframe thead th {\n",
              "        text-align: right;\n",
              "    }\n",
              "</style>\n",
              "<table border=\"1\" class=\"dataframe\">\n",
              "  <thead>\n",
              "    <tr style=\"text-align: right;\">\n",
              "      <th></th>\n",
              "      <th></th>\n",
              "      <th>Total</th>\n",
              "      <th>New Issues</th>\n",
              "      <th>Backlog</th>\n",
              "      <th>In Progress</th>\n",
              "      <th>Peer Review</th>\n",
              "    </tr>\n",
              "    <tr>\n",
              "      <th>Assigned</th>\n",
              "      <th>Status</th>\n",
              "      <th></th>\n",
              "      <th></th>\n",
              "      <th></th>\n",
              "      <th></th>\n",
              "      <th></th>\n",
              "    </tr>\n",
              "  </thead>\n",
              "  <tbody>\n",
              "    <tr>\n",
              "      <th>GiuseMSD</th>\n",
              "      <th>open</th>\n",
              "      <td>1</td>\n",
              "      <td>0</td>\n",
              "      <td>0</td>\n",
              "      <td>0</td>\n",
              "      <td>1</td>\n",
              "    </tr>\n",
              "    <tr>\n",
              "      <th>amanthegeek</th>\n",
              "      <th>open</th>\n",
              "      <td>1</td>\n",
              "      <td>0</td>\n",
              "      <td>0</td>\n",
              "      <td>1</td>\n",
              "      <td>0</td>\n",
              "    </tr>\n",
              "    <tr>\n",
              "      <th>baker371</th>\n",
              "      <th>open</th>\n",
              "      <td>1</td>\n",
              "      <td>0</td>\n",
              "      <td>0</td>\n",
              "      <td>1</td>\n",
              "      <td>0</td>\n",
              "    </tr>\n",
              "    <tr>\n",
              "      <th>chrisdiao</th>\n",
              "      <th>open</th>\n",
              "      <td>2</td>\n",
              "      <td>0</td>\n",
              "      <td>0</td>\n",
              "      <td>0</td>\n",
              "      <td>2</td>\n",
              "    </tr>\n",
              "    <tr>\n",
              "      <th>lucia15</th>\n",
              "      <th>open</th>\n",
              "      <td>5</td>\n",
              "      <td>0</td>\n",
              "      <td>0</td>\n",
              "      <td>1</td>\n",
              "      <td>4</td>\n",
              "    </tr>\n",
              "    <tr>\n",
              "      <th>mnjenga2</th>\n",
              "      <th>open</th>\n",
              "      <td>2</td>\n",
              "      <td>0</td>\n",
              "      <td>2</td>\n",
              "      <td>0</td>\n",
              "      <td>0</td>\n",
              "    </tr>\n",
              "  </tbody>\n",
              "</table>\n",
              "</div>"
            ],
            "text/plain": [
              "                    Total  New Issues  Backlog  In Progress  Peer Review\n",
              "Assigned    Status                                                      \n",
              "GiuseMSD    open        1           0        0            0            1\n",
              "amanthegeek open        1           0        0            1            0\n",
              "baker371    open        1           0        0            1            0\n",
              "chrisdiao   open        2           0        0            0            2\n",
              "lucia15     open        5           0        0            1            4\n",
              "mnjenga2    open        2           0        2            0            0"
            ]
          },
          "metadata": {
            "tags": []
          },
          "execution_count": 23
        }
      ]
    }
  ]
}