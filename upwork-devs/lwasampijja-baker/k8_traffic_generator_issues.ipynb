{
  "nbformat": 4,
  "nbformat_minor": 0,
  "metadata": {
    "colab": {
      "name": "k8-traffic-generator-issues.ipynb",
      "provenance": [],
      "collapsed_sections": [],
      "mount_file_id": "1Kk-ieY-ANpl1fISfkkCBbF5PVvp1JgZ1",
      "authorship_tag": "ABX9TyO1EJK0mawHDlIwkShK0Uia",
      "include_colab_link": true
    },
    "kernelspec": {
      "name": "python3",
      "display_name": "Python 3"
    }
  },
  "cells": [
    {
      "cell_type": "markdown",
      "metadata": {
        "id": "view-in-github",
        "colab_type": "text"
      },
      "source": [
        "<a href=\"https://colab.research.google.com/github/baker371/k8-data-visualization/blob/lwasampijja-baker/upwork-devs/lwasampijja-baker/k8_traffic_generator_issues.ipynb\" target=\"_parent\"><img src=\"https://colab.research.google.com/assets/colab-badge.svg\" alt=\"Open In Colab\"/></a>"
      ]
    },
    {
      "cell_type": "code",
      "metadata": {
        "id": "l_pYaNJxr6H-",
        "colab_type": "code",
        "colab": {}
      },
      "source": [
        "!cp \"/content/drive/My Drive/models/k8_issues.py\" ."
      ],
      "execution_count": 1,
      "outputs": []
    },
    {
      "cell_type": "code",
      "metadata": {
        "id": "lj81lcZMPIrM",
        "colab_type": "code",
        "colab": {}
      },
      "source": [
        "from k8_issues import Issues"
      ],
      "execution_count": 2,
      "outputs": []
    },
    {
      "cell_type": "code",
      "metadata": {
        "id": "pf_10mvkPW3-",
        "colab_type": "code",
        "colab": {}
      },
      "source": [
        "repos = ['k8-traffic-generator']"
      ],
      "execution_count": 3,
      "outputs": []
    },
    {
      "cell_type": "code",
      "metadata": {
        "id": "wh2eqK6bPjeb",
        "colab_type": "code",
        "colab": {}
      },
      "source": [
        "issues = Issues(repos)\n",
        "\n",
        "df = issues.get_df()\n",
        "\n",
        "issues.important()"
      ],
      "execution_count": 4,
      "outputs": []
    },
    {
      "cell_type": "code",
      "metadata": {
        "id": "Y1vuccSQQ6Lz",
        "colab_type": "code",
        "colab": {
          "base_uri": "https://localhost:8080/",
          "height": 202
        },
        "outputId": "2de14868-b33d-4beb-d5bd-95dbaa88a1e0"
      },
      "source": [
        "issues.status()"
      ],
      "execution_count": 5,
      "outputs": [
        {
          "output_type": "stream",
          "text": [
            "Issue               closed  open\n",
            "Assignee                        \n",
            "DinisCruz              1.0   0.0\n",
            "Unassigned             7.0   1.0\n",
            "belwase                1.0   1.0\n",
            "faisaladnanpeltops     3.0   1.0\n",
            "ggrig                  2.0   2.0\n",
            "pranaysahith           1.0   2.0\n",
            "reem-masoud            1.0   0.0\n",
            "xuxant                 1.0   0.0\n",
            "yardenshoham           5.0   1.0\n"
          ],
          "name": "stdout"
        }
      ]
    }
  ]
}