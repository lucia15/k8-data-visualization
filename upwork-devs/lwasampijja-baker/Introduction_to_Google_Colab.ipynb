{
 "cells": [
  {
   "cell_type": "markdown",
   "metadata": {
    "colab_type": "text",
    "id": "view-in-github"
   },
   "source": [
    "<a href=\"https://colab.research.google.com/github/baker371/k8-data-visualization/blob/lwasampijja-baker/upwork-devs/lwasampijja-baker/Introduction_to_Google_Colab.ipynb\" target=\"_parent\"><img src=\"https://colab.research.google.com/assets/colab-badge.svg\" alt=\"Open In Colab\"/></a>"
   ]
  },
  {
   "cell_type": "markdown",
   "metadata": {
    "colab_type": "text",
    "id": "olglENk1mC3e"
   },
   "source": [
    "## **Introduction to Google colaboratory (Colab)** \n"
   ]
  },
  {
   "cell_type": "markdown",
   "metadata": {
    "colab_type": "text",
    "id": "k1VQnhrtmpG0"
   },
   "source": [
    "Google released its internal research tool “Colaboratory” which is a tool for machine learning education and research. It’s a **Jupyter notebook** environment that requires no setup to use. In simpler terms, it’s a jupyter notebook with all the collaboration abilities of Google docs, meaning more than one person can work on the same code at the same time. But, the real attraction is the free computing power that this tool offers. Google colab currently offers the computing services of a Tesla K80 GPU for free."
   ]
  },
  {
   "cell_type": "markdown",
   "metadata": {
    "colab_type": "text",
    "id": "JVYyVswLthyN"
   },
   "source": [
    "### 1. Getting Started"
   ]
  },
  {
   "cell_type": "markdown",
   "metadata": {
    "colab_type": "text",
    "id": "UNN9NXtsBBhv"
   },
   "source": [
    " ![](http://drive.google.com/uc?export=view&id=1ZTSHY6fMu4HF8opXkTXKlhXHMJmfNFbD)"
   ]
  },
  {
   "cell_type": "markdown",
   "metadata": {
    "colab_type": "text",
    "id": "F7pCCu2Qt4bm"
   },
   "source": [
    "Go to www.google.com and type in Google colab. Click on Google Colab as shown in the image above. You must have and logged into your Gmail account."
   ]
  },
  {
   "cell_type": "markdown",
   "metadata": {
    "colab_type": "text",
    "id": "Krk5OTOiuMBa"
   },
   "source": [
    "### 2. Openning Google Colab"
   ]
  },
  {
   "cell_type": "markdown",
   "metadata": {
    "colab_type": "text",
    "id": "_lj3I9E-DDJj"
   },
   "source": [
    "  ![](http://drive.google.com/uc?export=view&id=1wlGSQOuNYXExmeHYkR9MjXrE5LXiGFfF)"
   ]
  },
  {
   "cell_type": "markdown",
   "metadata": {
    "colab_type": "text",
    "id": "cBxmPcRJu5w8"
   },
   "source": [
    "To select Jupyter notebooks already on your github, select Github as indicated in (1) above and copy your Github link as shown in (2).\n",
    "Select the appropriate repository and branch as you see fit (3). Existing notebooks will be highlighted and you can choose to open any (4) or go ahead to create a new notebook (5)."
   ]
  },
  {
   "cell_type": "markdown",
   "metadata": {
    "colab_type": "text",
    "id": "tkXoKqP6wo1Z"
   },
   "source": [
    "### 3. Inside the Notebook"
   ]
  },
  {
   "cell_type": "markdown",
   "metadata": {
    "colab_type": "text",
    "id": "i3WsFSGZDZQN"
   },
   "source": [
    "![](http://drive.google.com/uc?export=view&id=1J5m4MkbPH2sm5882Wn2u2cUFLeL614QT)"
   ]
  },
  {
   "cell_type": "markdown",
   "metadata": {
    "colab_type": "text",
    "id": "laqhnJq_xI-2"
   },
   "source": [
    "Just like any Google Doc, the notebook looks similar with some key features including;\n",
    "1. To add a code block.\n",
    "2. To add a text block.\n",
    "3. Upload files from the local drive or mount your Google drive.\n",
    "4. The ability to add comments.\n",
    "5. Share the notebook with specific individuals.\n",
    "6. etc"
   ]
  },
  {
   "cell_type": "markdown",
   "metadata": {
    "colab_type": "text",
    "id": "-YpfbtXJyYd4"
   },
   "source": [
    "### 4. The Code Blocks"
   ]
  },
  {
   "cell_type": "markdown",
   "metadata": {
    "colab_type": "text",
    "id": "OSgHbP0xDvAn"
   },
   "source": [
    "![](http://drive.google.com/uc?export=view&id=1DRwICaPfUreMV9fK8vmtCF5sIuQV1Hr9)"
   ]
  },
  {
   "cell_type": "markdown",
   "metadata": {
    "colab_type": "text",
    "id": "uAM6rgCO0e-x"
   },
   "source": [
    "As you will soon realise, most of the python packages you will need are already installed and up to date. However if you need a package that is not installed, you can always go ahead and install it. \n",
    "\n",
    "To run the code, click on the \"play\" button. Happy coding!"
   ]
  },
  {
   "cell_type": "markdown",
   "metadata": {
    "colab_type": "text",
    "id": "W46h06dL1qCc"
   },
   "source": []
  },
  {
   "cell_type": "markdown",
   "metadata": {
    "colab_type": "text",
    "id": "bYbkbqqM1p_2"
   },
   "source": [
    "### 5. The Text Blocks\n",
    "\n",
    "These work even better than the normal jupyter notebooks with normal text editor menu and buttons to bold text, create hyper links, add images, e.t.c. \n",
    "\n",
    "**Note:** The usual notebook markdown still works here and feel free to use it."
   ]
  },
  {
   "cell_type": "markdown",
   "metadata": {
    "colab_type": "text",
    "id": "IgItzLH_1p8p"
   },
   "source": [
    "### 6. Commiting your work to Github."
   ]
  },
  {
   "cell_type": "markdown",
   "metadata": {
    "colab_type": "text",
    "id": "Q7Z29ELV3-5r"
   },
   "source": [
    "1. Sign into your Github account because you will be asked to authenticate.\n",
    "2. Go to File -> Save a copy in Github, the following pop up will show up."
   ]
  },
  {
   "cell_type": "markdown",
   "metadata": {
    "colab_type": "text",
    "id": "uND4IENMD_So"
   },
   "source": [
    "![](http://drive.google.com/uc?export=view&id=1nxtXxaOv8_vEbTna0dzCtbbRb5XxPpmi)"
   ]
  },
  {
   "cell_type": "markdown",
   "metadata": {
    "colab_type": "text",
    "id": "lKddyxw04mKb"
   },
   "source": [
    "3. Specifiy your repository, and select the appropriate branch if any.\n",
    "4. Specify the path where you would like your notebook to be saved.\n",
    "5. Write your commit message and click ok."
   ]
  },
  {
   "cell_type": "markdown",
   "metadata": {
    "colab_type": "text",
    "id": "7g3cJCWN5MPB"
   },
   "source": [
    "### Advanced Use"
   ]
  },
  {
   "cell_type": "markdown",
   "metadata": {
    "colab_type": "text",
    "id": "Mbj_YKS_7bXm"
   },
   "source": [
    "1. The notebook can be kept private, shared with rights to view only, edit,  amongest multiple individuals or to be viewed by anyone with a link.\n",
    "2. Just like anyother Google Doc, the notebook has its own version control.\n",
    "3. API can be imported directly or as a file for usage."
   ]
  },
  {
   "cell_type": "markdown",
   "metadata": {
    "colab_type": "text",
    "id": "Rgu3YEcz8obp"
   },
   "source": [
    "## <center> THE END </center>"
   ]
  }
 ],
 "metadata": {
  "colab": {
   "authorship_tag": "ABX9TyOE6Cln0wKSbPHc3R3tUcgg",
   "include_colab_link": true,
   "mount_file_id": "1vshQ0utKm7Sa2EDRtAluN146oSsqVySp",
   "name": "Introduction to Google Colab.ipynb",
   "provenance": [],
   "toc_visible": true
  },
  "kernelspec": {
   "display_name": "Python 3",
   "language": "python",
   "name": "python3"
  },
  "language_info": {
   "codemirror_mode": {
    "name": "ipython",
    "version": 3
   },
   "file_extension": ".py",
   "mimetype": "text/x-python",
   "name": "python",
   "nbconvert_exporter": "python",
   "pygments_lexer": "ipython3",
   "version": "3.8.5"
  }
 },
 "nbformat": 4,
 "nbformat_minor": 1
}
